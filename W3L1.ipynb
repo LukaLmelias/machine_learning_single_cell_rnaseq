{
  "nbformat": 4,
  "nbformat_minor": 0,
  "metadata": {
    "colab": {
      "name": "W3L1.ipynb",
      "provenance": [],
      "collapsed_sections": []
    },
    "kernelspec": {
      "name": "python3",
      "display_name": "Python 3"
    },
    "language_info": {
      "name": "python"
    }
  },
  "cells": [
    {
      "cell_type": "markdown",
      "source": [
        "# 12.5 Unsupervised Learning\n",
        "This lab replaced the Lab session in Section 12.5.1 and 12.5.3 (on hierarchical clustering) in the book.\n",
        "\n",
        "This lab has the following sections:\n",
        "* 12.5.1: Principal Components Analysis\n",
        "* 12.5.3: Hierarchical Clustering Methods\n"
      ],
      "metadata": {
        "id": "QX9IOZW_S8X3"
      }
    },
    {
      "cell_type": "markdown",
      "source": [
        "Before getting started, we need to get access to the data. To do so, we clone a gitlab repository containing the data. It will make the data available in this Colab in the folder `data`."
      ],
      "metadata": {
        "id": "ha3bOsitNTBx"
      }
    },
    {
      "cell_type": "code",
      "source": [
        "!git clone https://git.wur.nl/koots006/msc-course-machine-learning.git data"
      ],
      "metadata": {
        "id": "sMyA-gw1NTfA",
        "colab": {
          "base_uri": "https://localhost:8080/"
        },
        "outputId": "78d64970-eef6-4336-d7cd-f042d9264390"
      },
      "execution_count": 1,
      "outputs": [
        {
          "output_type": "stream",
          "name": "stdout",
          "text": [
            "Cloning into 'data'...\n",
            "remote: Enumerating objects: 492, done.\u001b[K\n",
            "remote: Counting objects: 100% (446/446), done.\u001b[K\n",
            "remote: Compressing objects: 100% (443/443), done.\u001b[K\n",
            "remote: Total 492 (delta 2), reused 439 (delta 2), pack-reused 46\u001b[K\n",
            "Receiving objects: 100% (492/492), 35.70 MiB | 14.26 MiB/s, done.\n",
            "Resolving deltas: 100% (3/3), done.\n"
          ]
        }
      ]
    },
    {
      "cell_type": "markdown",
      "source": [
        "# Import relevant libraries"
      ],
      "metadata": {
        "id": "r1cLUF0AV2wX"
      }
    },
    {
      "cell_type": "code",
      "source": [
        "%matplotlib inline\n",
        "\n",
        "import pandas as pd\n",
        "import numpy as np\n",
        "import matplotlib.pyplot as plt\n",
        "\n",
        "from sklearn.preprocessing import scale, StandardScaler\n",
        "from sklearn import model_selection\n",
        "from sklearn.decomposition import PCA\n",
        "from sklearn.linear_model import LinearRegression\n",
        "from sklearn.cross_decomposition import PLSRegression, PLSSVD\n",
        "from sklearn.metrics import mean_squared_error"
      ],
      "metadata": {
        "id": "lsed61TMV8ov"
      },
      "execution_count": 2,
      "outputs": []
    },
    {
      "cell_type": "markdown",
      "source": [
        "# Lab Principal Component Analysis"
      ],
      "metadata": {
        "id": "d5WtOGdcWJNi"
      }
    },
    {
      "cell_type": "markdown",
      "source": [
        "## 12.5.1 Principal Components Analysis\n",
        "In this lab, we perform PCA on the `USArrests` data set.\n",
        "The rows of the data set contain the 50 states of the USA, in alphabetical order."
      ],
      "metadata": {
        "id": "iDtL0aH8YHZY"
      }
    },
    {
      "cell_type": "code",
      "metadata": {
        "id": "G3EbKP_MNesn"
      },
      "source": [
        "USArrests = pd.read_csv('data/islr_data/USArrests.csv', index_col=0)"
      ],
      "execution_count": 3,
      "outputs": []
    },
    {
      "cell_type": "code",
      "metadata": {
        "id": "uvUCudumOQTH",
        "colab": {
          "base_uri": "https://localhost:8080/",
          "height": 206
        },
        "outputId": "bbea87f5-9bd4-4ab0-a827-8890683cb6d6"
      },
      "source": [
        "USArrests.head()"
      ],
      "execution_count": 5,
      "outputs": [
        {
          "output_type": "execute_result",
          "data": {
            "text/html": [
              "\n",
              "  <div id=\"df-e8748c8e-3926-4ddc-a5e4-e93559fccd13\">\n",
              "    <div class=\"colab-df-container\">\n",
              "      <div>\n",
              "<style scoped>\n",
              "    .dataframe tbody tr th:only-of-type {\n",
              "        vertical-align: middle;\n",
              "    }\n",
              "\n",
              "    .dataframe tbody tr th {\n",
              "        vertical-align: top;\n",
              "    }\n",
              "\n",
              "    .dataframe thead th {\n",
              "        text-align: right;\n",
              "    }\n",
              "</style>\n",
              "<table border=\"1\" class=\"dataframe\">\n",
              "  <thead>\n",
              "    <tr style=\"text-align: right;\">\n",
              "      <th></th>\n",
              "      <th>Murder</th>\n",
              "      <th>Assault</th>\n",
              "      <th>UrbanPop</th>\n",
              "      <th>Rape</th>\n",
              "    </tr>\n",
              "  </thead>\n",
              "  <tbody>\n",
              "    <tr>\n",
              "      <th>Alabama</th>\n",
              "      <td>13.2</td>\n",
              "      <td>236</td>\n",
              "      <td>58</td>\n",
              "      <td>21.2</td>\n",
              "    </tr>\n",
              "    <tr>\n",
              "      <th>Alaska</th>\n",
              "      <td>10.0</td>\n",
              "      <td>263</td>\n",
              "      <td>48</td>\n",
              "      <td>44.5</td>\n",
              "    </tr>\n",
              "    <tr>\n",
              "      <th>Arizona</th>\n",
              "      <td>8.1</td>\n",
              "      <td>294</td>\n",
              "      <td>80</td>\n",
              "      <td>31.0</td>\n",
              "    </tr>\n",
              "    <tr>\n",
              "      <th>Arkansas</th>\n",
              "      <td>8.8</td>\n",
              "      <td>190</td>\n",
              "      <td>50</td>\n",
              "      <td>19.5</td>\n",
              "    </tr>\n",
              "    <tr>\n",
              "      <th>California</th>\n",
              "      <td>9.0</td>\n",
              "      <td>276</td>\n",
              "      <td>91</td>\n",
              "      <td>40.6</td>\n",
              "    </tr>\n",
              "  </tbody>\n",
              "</table>\n",
              "</div>\n",
              "      <button class=\"colab-df-convert\" onclick=\"convertToInteractive('df-e8748c8e-3926-4ddc-a5e4-e93559fccd13')\"\n",
              "              title=\"Convert this dataframe to an interactive table.\"\n",
              "              style=\"display:none;\">\n",
              "        \n",
              "  <svg xmlns=\"http://www.w3.org/2000/svg\" height=\"24px\"viewBox=\"0 0 24 24\"\n",
              "       width=\"24px\">\n",
              "    <path d=\"M0 0h24v24H0V0z\" fill=\"none\"/>\n",
              "    <path d=\"M18.56 5.44l.94 2.06.94-2.06 2.06-.94-2.06-.94-.94-2.06-.94 2.06-2.06.94zm-11 1L8.5 8.5l.94-2.06 2.06-.94-2.06-.94L8.5 2.5l-.94 2.06-2.06.94zm10 10l.94 2.06.94-2.06 2.06-.94-2.06-.94-.94-2.06-.94 2.06-2.06.94z\"/><path d=\"M17.41 7.96l-1.37-1.37c-.4-.4-.92-.59-1.43-.59-.52 0-1.04.2-1.43.59L10.3 9.45l-7.72 7.72c-.78.78-.78 2.05 0 2.83L4 21.41c.39.39.9.59 1.41.59.51 0 1.02-.2 1.41-.59l7.78-7.78 2.81-2.81c.8-.78.8-2.07 0-2.86zM5.41 20L4 18.59l7.72-7.72 1.47 1.35L5.41 20z\"/>\n",
              "  </svg>\n",
              "      </button>\n",
              "      \n",
              "  <style>\n",
              "    .colab-df-container {\n",
              "      display:flex;\n",
              "      flex-wrap:wrap;\n",
              "      gap: 12px;\n",
              "    }\n",
              "\n",
              "    .colab-df-convert {\n",
              "      background-color: #E8F0FE;\n",
              "      border: none;\n",
              "      border-radius: 50%;\n",
              "      cursor: pointer;\n",
              "      display: none;\n",
              "      fill: #1967D2;\n",
              "      height: 32px;\n",
              "      padding: 0 0 0 0;\n",
              "      width: 32px;\n",
              "    }\n",
              "\n",
              "    .colab-df-convert:hover {\n",
              "      background-color: #E2EBFA;\n",
              "      box-shadow: 0px 1px 2px rgba(60, 64, 67, 0.3), 0px 1px 3px 1px rgba(60, 64, 67, 0.15);\n",
              "      fill: #174EA6;\n",
              "    }\n",
              "\n",
              "    [theme=dark] .colab-df-convert {\n",
              "      background-color: #3B4455;\n",
              "      fill: #D2E3FC;\n",
              "    }\n",
              "\n",
              "    [theme=dark] .colab-df-convert:hover {\n",
              "      background-color: #434B5C;\n",
              "      box-shadow: 0px 1px 3px 1px rgba(0, 0, 0, 0.15);\n",
              "      filter: drop-shadow(0px 1px 2px rgba(0, 0, 0, 0.3));\n",
              "      fill: #FFFFFF;\n",
              "    }\n",
              "  </style>\n",
              "\n",
              "      <script>\n",
              "        const buttonEl =\n",
              "          document.querySelector('#df-e8748c8e-3926-4ddc-a5e4-e93559fccd13 button.colab-df-convert');\n",
              "        buttonEl.style.display =\n",
              "          google.colab.kernel.accessAllowed ? 'block' : 'none';\n",
              "\n",
              "        async function convertToInteractive(key) {\n",
              "          const element = document.querySelector('#df-e8748c8e-3926-4ddc-a5e4-e93559fccd13');\n",
              "          const dataTable =\n",
              "            await google.colab.kernel.invokeFunction('convertToInteractive',\n",
              "                                                     [key], {});\n",
              "          if (!dataTable) return;\n",
              "\n",
              "          const docLinkHtml = 'Like what you see? Visit the ' +\n",
              "            '<a target=\"_blank\" href=https://colab.research.google.com/notebooks/data_table.ipynb>data table notebook</a>'\n",
              "            + ' to learn more about interactive tables.';\n",
              "          element.innerHTML = '';\n",
              "          dataTable['output_type'] = 'display_data';\n",
              "          await google.colab.output.renderOutput(dataTable, element);\n",
              "          const docLink = document.createElement('div');\n",
              "          docLink.innerHTML = docLinkHtml;\n",
              "          element.appendChild(docLink);\n",
              "        }\n",
              "      </script>\n",
              "    </div>\n",
              "  </div>\n",
              "  "
            ],
            "text/plain": [
              "            Murder  Assault  UrbanPop  Rape\n",
              "Alabama       13.2      236        58  21.2\n",
              "Alaska        10.0      263        48  44.5\n",
              "Arizona        8.1      294        80  31.0\n",
              "Arkansas       8.8      190        50  19.5\n",
              "California     9.0      276        91  40.6"
            ]
          },
          "metadata": {},
          "execution_count": 5
        }
      ]
    },
    {
      "cell_type": "markdown",
      "metadata": {
        "id": "09ead673"
      },
      "source": [
        "The columns of the data set contain the four variables."
      ]
    },
    {
      "cell_type": "code",
      "metadata": {
        "id": "_4DMeubbOcA4",
        "colab": {
          "base_uri": "https://localhost:8080/"
        },
        "outputId": "884c0042-b7f9-4f89-948d-1424456b13d6"
      },
      "source": [
        "states = USArrests.index\n",
        "states"
      ],
      "execution_count": 6,
      "outputs": [
        {
          "output_type": "execute_result",
          "data": {
            "text/plain": [
              "Index(['Alabama', 'Alaska', 'Arizona', 'Arkansas', 'California', 'Colorado',\n",
              "       'Connecticut', 'Delaware', 'Florida', 'Georgia', 'Hawaii', 'Idaho',\n",
              "       'Illinois', 'Indiana', 'Iowa', 'Kansas', 'Kentucky', 'Louisiana',\n",
              "       'Maine', 'Maryland', 'Massachusetts', 'Michigan', 'Minnesota',\n",
              "       'Mississippi', 'Missouri', 'Montana', 'Nebraska', 'Nevada',\n",
              "       'New Hampshire', 'New Jersey', 'New Mexico', 'New York',\n",
              "       'North Carolina', 'North Dakota', 'Ohio', 'Oklahoma', 'Oregon',\n",
              "       'Pennsylvania', 'Rhode Island', 'South Carolina', 'South Dakota',\n",
              "       'Tennessee', 'Texas', 'Utah', 'Vermont', 'Virginia', 'Washington',\n",
              "       'West Virginia', 'Wisconsin', 'Wyoming'],\n",
              "      dtype='object')"
            ]
          },
          "metadata": {},
          "execution_count": 6
        }
      ]
    },
    {
      "cell_type": "code",
      "metadata": {
        "id": "E3vdpISmOrt_",
        "colab": {
          "base_uri": "https://localhost:8080/"
        },
        "outputId": "6a6dc22e-af1d-47bf-fbff-173e30e41828"
      },
      "source": [
        "USArrests.columns"
      ],
      "execution_count": 7,
      "outputs": [
        {
          "output_type": "execute_result",
          "data": {
            "text/plain": [
              "Index(['Murder', 'Assault', 'UrbanPop', 'Rape'], dtype='object')"
            ]
          },
          "metadata": {},
          "execution_count": 7
        }
      ]
    },
    {
      "cell_type": "markdown",
      "metadata": {
        "id": "09ae38b1"
      },
      "source": [
        "We first briefly examine the data. Using the `.mean()` method we get column-wise average values. We notice that the variables have vastly different means, we see that there are on average three times as many rapes as murders, and more than eight times as many assaults as rapes."
      ]
    },
    {
      "cell_type": "code",
      "metadata": {
        "id": "KVqclubuPH2g",
        "colab": {
          "base_uri": "https://localhost:8080/"
        },
        "outputId": "29e351d0-0877-4729-d5c1-f73d60632038"
      },
      "source": [
        "USArrests.mean()"
      ],
      "execution_count": 8,
      "outputs": [
        {
          "output_type": "execute_result",
          "data": {
            "text/plain": [
              "Murder        7.788\n",
              "Assault     170.760\n",
              "UrbanPop     65.540\n",
              "Rape         21.232\n",
              "dtype: float64"
            ]
          },
          "metadata": {},
          "execution_count": 8
        }
      ]
    },
    {
      "cell_type": "markdown",
      "metadata": {
        "id": "d0cd124e"
      },
      "source": [
        "We can also examine the variances of the four variables using the `.var()` function. For more options to examine dataframes, have a look at the `Methods` section in https://pandas.pydata.org/docs/reference/api/pandas.DataFrame.html."
      ]
    },
    {
      "cell_type": "code",
      "metadata": {
        "id": "Sd7TD1emPJm5",
        "colab": {
          "base_uri": "https://localhost:8080/"
        },
        "outputId": "d4a4f46c-3719-46f6-e2ea-4e2dba30e4db"
      },
      "source": [
        "USArrests.var()"
      ],
      "execution_count": 9,
      "outputs": [
        {
          "output_type": "execute_result",
          "data": {
            "text/plain": [
              "Murder        18.970465\n",
              "Assault     6945.165714\n",
              "UrbanPop     209.518776\n",
              "Rape          87.729159\n",
              "dtype: float64"
            ]
          },
          "metadata": {},
          "execution_count": 9
        }
      ]
    },
    {
      "cell_type": "markdown",
      "source": [
        "One additional option is to use .describe():"
      ],
      "metadata": {
        "id": "rARcwwTu-gM7"
      }
    },
    {
      "cell_type": "code",
      "metadata": {
        "id": "lM2AUL3T4wt3",
        "colab": {
          "base_uri": "https://localhost:8080/",
          "height": 300
        },
        "outputId": "06487896-eefe-4e8e-a07c-2fae464c9c39"
      },
      "source": [
        "USArrests.describe()"
      ],
      "execution_count": 10,
      "outputs": [
        {
          "output_type": "execute_result",
          "data": {
            "text/html": [
              "\n",
              "  <div id=\"df-60349f50-207d-4c5f-bcba-6dc912eb4532\">\n",
              "    <div class=\"colab-df-container\">\n",
              "      <div>\n",
              "<style scoped>\n",
              "    .dataframe tbody tr th:only-of-type {\n",
              "        vertical-align: middle;\n",
              "    }\n",
              "\n",
              "    .dataframe tbody tr th {\n",
              "        vertical-align: top;\n",
              "    }\n",
              "\n",
              "    .dataframe thead th {\n",
              "        text-align: right;\n",
              "    }\n",
              "</style>\n",
              "<table border=\"1\" class=\"dataframe\">\n",
              "  <thead>\n",
              "    <tr style=\"text-align: right;\">\n",
              "      <th></th>\n",
              "      <th>Murder</th>\n",
              "      <th>Assault</th>\n",
              "      <th>UrbanPop</th>\n",
              "      <th>Rape</th>\n",
              "    </tr>\n",
              "  </thead>\n",
              "  <tbody>\n",
              "    <tr>\n",
              "      <th>count</th>\n",
              "      <td>50.00000</td>\n",
              "      <td>50.000000</td>\n",
              "      <td>50.000000</td>\n",
              "      <td>50.000000</td>\n",
              "    </tr>\n",
              "    <tr>\n",
              "      <th>mean</th>\n",
              "      <td>7.78800</td>\n",
              "      <td>170.760000</td>\n",
              "      <td>65.540000</td>\n",
              "      <td>21.232000</td>\n",
              "    </tr>\n",
              "    <tr>\n",
              "      <th>std</th>\n",
              "      <td>4.35551</td>\n",
              "      <td>83.337661</td>\n",
              "      <td>14.474763</td>\n",
              "      <td>9.366385</td>\n",
              "    </tr>\n",
              "    <tr>\n",
              "      <th>min</th>\n",
              "      <td>0.80000</td>\n",
              "      <td>45.000000</td>\n",
              "      <td>32.000000</td>\n",
              "      <td>7.300000</td>\n",
              "    </tr>\n",
              "    <tr>\n",
              "      <th>25%</th>\n",
              "      <td>4.07500</td>\n",
              "      <td>109.000000</td>\n",
              "      <td>54.500000</td>\n",
              "      <td>15.075000</td>\n",
              "    </tr>\n",
              "    <tr>\n",
              "      <th>50%</th>\n",
              "      <td>7.25000</td>\n",
              "      <td>159.000000</td>\n",
              "      <td>66.000000</td>\n",
              "      <td>20.100000</td>\n",
              "    </tr>\n",
              "    <tr>\n",
              "      <th>75%</th>\n",
              "      <td>11.25000</td>\n",
              "      <td>249.000000</td>\n",
              "      <td>77.750000</td>\n",
              "      <td>26.175000</td>\n",
              "    </tr>\n",
              "    <tr>\n",
              "      <th>max</th>\n",
              "      <td>17.40000</td>\n",
              "      <td>337.000000</td>\n",
              "      <td>91.000000</td>\n",
              "      <td>46.000000</td>\n",
              "    </tr>\n",
              "  </tbody>\n",
              "</table>\n",
              "</div>\n",
              "      <button class=\"colab-df-convert\" onclick=\"convertToInteractive('df-60349f50-207d-4c5f-bcba-6dc912eb4532')\"\n",
              "              title=\"Convert this dataframe to an interactive table.\"\n",
              "              style=\"display:none;\">\n",
              "        \n",
              "  <svg xmlns=\"http://www.w3.org/2000/svg\" height=\"24px\"viewBox=\"0 0 24 24\"\n",
              "       width=\"24px\">\n",
              "    <path d=\"M0 0h24v24H0V0z\" fill=\"none\"/>\n",
              "    <path d=\"M18.56 5.44l.94 2.06.94-2.06 2.06-.94-2.06-.94-.94-2.06-.94 2.06-2.06.94zm-11 1L8.5 8.5l.94-2.06 2.06-.94-2.06-.94L8.5 2.5l-.94 2.06-2.06.94zm10 10l.94 2.06.94-2.06 2.06-.94-2.06-.94-.94-2.06-.94 2.06-2.06.94z\"/><path d=\"M17.41 7.96l-1.37-1.37c-.4-.4-.92-.59-1.43-.59-.52 0-1.04.2-1.43.59L10.3 9.45l-7.72 7.72c-.78.78-.78 2.05 0 2.83L4 21.41c.39.39.9.59 1.41.59.51 0 1.02-.2 1.41-.59l7.78-7.78 2.81-2.81c.8-.78.8-2.07 0-2.86zM5.41 20L4 18.59l7.72-7.72 1.47 1.35L5.41 20z\"/>\n",
              "  </svg>\n",
              "      </button>\n",
              "      \n",
              "  <style>\n",
              "    .colab-df-container {\n",
              "      display:flex;\n",
              "      flex-wrap:wrap;\n",
              "      gap: 12px;\n",
              "    }\n",
              "\n",
              "    .colab-df-convert {\n",
              "      background-color: #E8F0FE;\n",
              "      border: none;\n",
              "      border-radius: 50%;\n",
              "      cursor: pointer;\n",
              "      display: none;\n",
              "      fill: #1967D2;\n",
              "      height: 32px;\n",
              "      padding: 0 0 0 0;\n",
              "      width: 32px;\n",
              "    }\n",
              "\n",
              "    .colab-df-convert:hover {\n",
              "      background-color: #E2EBFA;\n",
              "      box-shadow: 0px 1px 2px rgba(60, 64, 67, 0.3), 0px 1px 3px 1px rgba(60, 64, 67, 0.15);\n",
              "      fill: #174EA6;\n",
              "    }\n",
              "\n",
              "    [theme=dark] .colab-df-convert {\n",
              "      background-color: #3B4455;\n",
              "      fill: #D2E3FC;\n",
              "    }\n",
              "\n",
              "    [theme=dark] .colab-df-convert:hover {\n",
              "      background-color: #434B5C;\n",
              "      box-shadow: 0px 1px 3px 1px rgba(0, 0, 0, 0.15);\n",
              "      filter: drop-shadow(0px 1px 2px rgba(0, 0, 0, 0.3));\n",
              "      fill: #FFFFFF;\n",
              "    }\n",
              "  </style>\n",
              "\n",
              "      <script>\n",
              "        const buttonEl =\n",
              "          document.querySelector('#df-60349f50-207d-4c5f-bcba-6dc912eb4532 button.colab-df-convert');\n",
              "        buttonEl.style.display =\n",
              "          google.colab.kernel.accessAllowed ? 'block' : 'none';\n",
              "\n",
              "        async function convertToInteractive(key) {\n",
              "          const element = document.querySelector('#df-60349f50-207d-4c5f-bcba-6dc912eb4532');\n",
              "          const dataTable =\n",
              "            await google.colab.kernel.invokeFunction('convertToInteractive',\n",
              "                                                     [key], {});\n",
              "          if (!dataTable) return;\n",
              "\n",
              "          const docLinkHtml = 'Like what you see? Visit the ' +\n",
              "            '<a target=\"_blank\" href=https://colab.research.google.com/notebooks/data_table.ipynb>data table notebook</a>'\n",
              "            + ' to learn more about interactive tables.';\n",
              "          element.innerHTML = '';\n",
              "          dataTable['output_type'] = 'display_data';\n",
              "          await google.colab.output.renderOutput(dataTable, element);\n",
              "          const docLink = document.createElement('div');\n",
              "          docLink.innerHTML = docLinkHtml;\n",
              "          element.appendChild(docLink);\n",
              "        }\n",
              "      </script>\n",
              "    </div>\n",
              "  </div>\n",
              "  "
            ],
            "text/plain": [
              "         Murder     Assault   UrbanPop       Rape\n",
              "count  50.00000   50.000000  50.000000  50.000000\n",
              "mean    7.78800  170.760000  65.540000  21.232000\n",
              "std     4.35551   83.337661  14.474763   9.366385\n",
              "min     0.80000   45.000000  32.000000   7.300000\n",
              "25%     4.07500  109.000000  54.500000  15.075000\n",
              "50%     7.25000  159.000000  66.000000  20.100000\n",
              "75%    11.25000  249.000000  77.750000  26.175000\n",
              "max    17.40000  337.000000  91.000000  46.000000"
            ]
          },
          "metadata": {},
          "execution_count": 10
        }
      ]
    },
    {
      "cell_type": "markdown",
      "metadata": {
        "id": "8d0549e0"
      },
      "source": [
        "Not surprisingly, the variables also have vastly different variances:\n",
        " the `UrbanPop` variable measures the percentage of the population in each state living in an urban area, which is not a comparable number to the number of rapes\n",
        "in each state per 100,000 individuals.\n",
        "If we failed to scale the variables before performing PCA, then most of the principal components that we observed would be driven by the `Assault` variable, since it has by far the largest mean and variance.\n",
        "Thus, it is important to standardize the variables to have mean zero and standard deviation one before performing PCA. To achieve mean zero and standard deviation of one, we scale the data using the `StandardScaler()` method from the `sklearn` library.\n",
        "\n"
      ]
    },
    {
      "cell_type": "code",
      "metadata": {
        "id": "YoLf0jB9RuRR",
        "colab": {
          "base_uri": "https://localhost:8080/",
          "height": 206
        },
        "outputId": "84e567b8-82f9-4efb-a23d-347a50d74161"
      },
      "source": [
        "# Scale the data to have mean 0 and std 1 for each feature\n",
        "scaler = StandardScaler()\n",
        "X_scaled = scaler.fit_transform(USArrests)\n",
        "\n",
        "X_scaled = pd.DataFrame(X_scaled,columns = USArrests.columns)\n",
        "X_scaled.head()"
      ],
      "execution_count": 11,
      "outputs": [
        {
          "output_type": "execute_result",
          "data": {
            "text/html": [
              "\n",
              "  <div id=\"df-eafe90c2-337c-4f50-9ec1-d86920e14703\">\n",
              "    <div class=\"colab-df-container\">\n",
              "      <div>\n",
              "<style scoped>\n",
              "    .dataframe tbody tr th:only-of-type {\n",
              "        vertical-align: middle;\n",
              "    }\n",
              "\n",
              "    .dataframe tbody tr th {\n",
              "        vertical-align: top;\n",
              "    }\n",
              "\n",
              "    .dataframe thead th {\n",
              "        text-align: right;\n",
              "    }\n",
              "</style>\n",
              "<table border=\"1\" class=\"dataframe\">\n",
              "  <thead>\n",
              "    <tr style=\"text-align: right;\">\n",
              "      <th></th>\n",
              "      <th>Murder</th>\n",
              "      <th>Assault</th>\n",
              "      <th>UrbanPop</th>\n",
              "      <th>Rape</th>\n",
              "    </tr>\n",
              "  </thead>\n",
              "  <tbody>\n",
              "    <tr>\n",
              "      <th>0</th>\n",
              "      <td>1.255179</td>\n",
              "      <td>0.790787</td>\n",
              "      <td>-0.526195</td>\n",
              "      <td>-0.003451</td>\n",
              "    </tr>\n",
              "    <tr>\n",
              "      <th>1</th>\n",
              "      <td>0.513019</td>\n",
              "      <td>1.118060</td>\n",
              "      <td>-1.224067</td>\n",
              "      <td>2.509424</td>\n",
              "    </tr>\n",
              "    <tr>\n",
              "      <th>2</th>\n",
              "      <td>0.072361</td>\n",
              "      <td>1.493817</td>\n",
              "      <td>1.009122</td>\n",
              "      <td>1.053466</td>\n",
              "    </tr>\n",
              "    <tr>\n",
              "      <th>3</th>\n",
              "      <td>0.234708</td>\n",
              "      <td>0.233212</td>\n",
              "      <td>-1.084492</td>\n",
              "      <td>-0.186794</td>\n",
              "    </tr>\n",
              "    <tr>\n",
              "      <th>4</th>\n",
              "      <td>0.281093</td>\n",
              "      <td>1.275635</td>\n",
              "      <td>1.776781</td>\n",
              "      <td>2.088814</td>\n",
              "    </tr>\n",
              "  </tbody>\n",
              "</table>\n",
              "</div>\n",
              "      <button class=\"colab-df-convert\" onclick=\"convertToInteractive('df-eafe90c2-337c-4f50-9ec1-d86920e14703')\"\n",
              "              title=\"Convert this dataframe to an interactive table.\"\n",
              "              style=\"display:none;\">\n",
              "        \n",
              "  <svg xmlns=\"http://www.w3.org/2000/svg\" height=\"24px\"viewBox=\"0 0 24 24\"\n",
              "       width=\"24px\">\n",
              "    <path d=\"M0 0h24v24H0V0z\" fill=\"none\"/>\n",
              "    <path d=\"M18.56 5.44l.94 2.06.94-2.06 2.06-.94-2.06-.94-.94-2.06-.94 2.06-2.06.94zm-11 1L8.5 8.5l.94-2.06 2.06-.94-2.06-.94L8.5 2.5l-.94 2.06-2.06.94zm10 10l.94 2.06.94-2.06 2.06-.94-2.06-.94-.94-2.06-.94 2.06-2.06.94z\"/><path d=\"M17.41 7.96l-1.37-1.37c-.4-.4-.92-.59-1.43-.59-.52 0-1.04.2-1.43.59L10.3 9.45l-7.72 7.72c-.78.78-.78 2.05 0 2.83L4 21.41c.39.39.9.59 1.41.59.51 0 1.02-.2 1.41-.59l7.78-7.78 2.81-2.81c.8-.78.8-2.07 0-2.86zM5.41 20L4 18.59l7.72-7.72 1.47 1.35L5.41 20z\"/>\n",
              "  </svg>\n",
              "      </button>\n",
              "      \n",
              "  <style>\n",
              "    .colab-df-container {\n",
              "      display:flex;\n",
              "      flex-wrap:wrap;\n",
              "      gap: 12px;\n",
              "    }\n",
              "\n",
              "    .colab-df-convert {\n",
              "      background-color: #E8F0FE;\n",
              "      border: none;\n",
              "      border-radius: 50%;\n",
              "      cursor: pointer;\n",
              "      display: none;\n",
              "      fill: #1967D2;\n",
              "      height: 32px;\n",
              "      padding: 0 0 0 0;\n",
              "      width: 32px;\n",
              "    }\n",
              "\n",
              "    .colab-df-convert:hover {\n",
              "      background-color: #E2EBFA;\n",
              "      box-shadow: 0px 1px 2px rgba(60, 64, 67, 0.3), 0px 1px 3px 1px rgba(60, 64, 67, 0.15);\n",
              "      fill: #174EA6;\n",
              "    }\n",
              "\n",
              "    [theme=dark] .colab-df-convert {\n",
              "      background-color: #3B4455;\n",
              "      fill: #D2E3FC;\n",
              "    }\n",
              "\n",
              "    [theme=dark] .colab-df-convert:hover {\n",
              "      background-color: #434B5C;\n",
              "      box-shadow: 0px 1px 3px 1px rgba(0, 0, 0, 0.15);\n",
              "      filter: drop-shadow(0px 1px 2px rgba(0, 0, 0, 0.3));\n",
              "      fill: #FFFFFF;\n",
              "    }\n",
              "  </style>\n",
              "\n",
              "      <script>\n",
              "        const buttonEl =\n",
              "          document.querySelector('#df-eafe90c2-337c-4f50-9ec1-d86920e14703 button.colab-df-convert');\n",
              "        buttonEl.style.display =\n",
              "          google.colab.kernel.accessAllowed ? 'block' : 'none';\n",
              "\n",
              "        async function convertToInteractive(key) {\n",
              "          const element = document.querySelector('#df-eafe90c2-337c-4f50-9ec1-d86920e14703');\n",
              "          const dataTable =\n",
              "            await google.colab.kernel.invokeFunction('convertToInteractive',\n",
              "                                                     [key], {});\n",
              "          if (!dataTable) return;\n",
              "\n",
              "          const docLinkHtml = 'Like what you see? Visit the ' +\n",
              "            '<a target=\"_blank\" href=https://colab.research.google.com/notebooks/data_table.ipynb>data table notebook</a>'\n",
              "            + ' to learn more about interactive tables.';\n",
              "          element.innerHTML = '';\n",
              "          dataTable['output_type'] = 'display_data';\n",
              "          await google.colab.output.renderOutput(dataTable, element);\n",
              "          const docLink = document.createElement('div');\n",
              "          docLink.innerHTML = docLinkHtml;\n",
              "          element.appendChild(docLink);\n",
              "        }\n",
              "      </script>\n",
              "    </div>\n",
              "  </div>\n",
              "  "
            ],
            "text/plain": [
              "     Murder   Assault  UrbanPop      Rape\n",
              "0  1.255179  0.790787 -0.526195 -0.003451\n",
              "1  0.513019  1.118060 -1.224067  2.509424\n",
              "2  0.072361  1.493817  1.009122  1.053466\n",
              "3  0.234708  0.233212 -1.084492 -0.186794\n",
              "4  0.281093  1.275635  1.776781  2.088814"
            ]
          },
          "metadata": {},
          "execution_count": 11
        }
      ]
    },
    {
      "cell_type": "code",
      "metadata": {
        "id": "_M9ZiwY4RwvQ",
        "colab": {
          "base_uri": "https://localhost:8080/"
        },
        "outputId": "794d5d2b-71ec-49f2-b16e-63437e6abe85"
      },
      "source": [
        "print(\"Scaled means: \\n\", X_scaled.mean())\n",
        "\n",
        "print(\"Scaled variances: \\n\", X_scaled.var())\n",
        "#note: the variance is not exactly 1 because of a difference in how numpy (used in the scaler) and pandas (used here) calculate variance\n",
        "#(biased vs unbiased) For our purposes, this does not matter, since the important thing is that each feature now has a comparable range.\n",
        "#if you want to confirm that according to numpy the variance is 1, use print(X_scaled.std(axis=0)) before making the DataFrame above"
      ],
      "execution_count": 12,
      "outputs": [
        {
          "output_type": "stream",
          "name": "stdout",
          "text": [
            "Scaled means: \n",
            " Murder     -8.437695e-17\n",
            "Assault     1.298961e-16\n",
            "UrbanPop   -4.263256e-16\n",
            "Rape        8.326673e-16\n",
            "dtype: float64\n",
            "Scaled variances: \n",
            " Murder      1.020408\n",
            "Assault     1.020408\n",
            "UrbanPop    1.020408\n",
            "Rape        1.020408\n",
            "dtype: float64\n"
          ]
        }
      ]
    },
    {
      "cell_type": "markdown",
      "source": [
        "We now perform principal components analysis using the sklear `PCA()` function, which is one of several functions in `Python` that perform PCA."
      ],
      "metadata": {
        "id": "AdvHvSoguiAK"
      }
    },
    {
      "cell_type": "code",
      "metadata": {
        "id": "lCp6JaUJP21q"
      },
      "source": [
        "pca_fit = PCA(random_state=42).fit(X_scaled)\n",
        "pca_loadings = pd.DataFrame(pca_fit.components_.T, index=USArrests.columns, columns=['V1', 'V2', 'V3', 'V4'])"
      ],
      "execution_count": 14,
      "outputs": []
    },
    {
      "cell_type": "markdown",
      "metadata": {
        "id": "f8cd2f2e"
      },
      "source": [
        "The `pca_loadings` dataframe provides the principal component loadings;\n",
        "each column of this dataframe contains the loading vector corresponding to one of the principal components. If you would matrix-multiply the input data used for PCA with the `pca_loadings` matrix, you get the coordinates of the  data in the rotated coordinate system. These coordinates are the principal component scores.\n"
      ]
    },
    {
      "cell_type": "code",
      "metadata": {
        "id": "x7w4K-uk7DoN",
        "colab": {
          "base_uri": "https://localhost:8080/"
        },
        "outputId": "601bdd2e-5f9a-47c2-a20c-42c898bbed3d"
      },
      "source": [
        "print(pca_loadings)"
      ],
      "execution_count": 15,
      "outputs": [
        {
          "output_type": "stream",
          "name": "stdout",
          "text": [
            "                V1        V2        V3        V4\n",
            "Murder    0.535899  0.418181 -0.341233  0.649228\n",
            "Assault   0.583184  0.187986 -0.268148 -0.743407\n",
            "UrbanPop  0.278191 -0.872806 -0.378016  0.133878\n",
            "Rape      0.543432 -0.167319  0.817778  0.089024\n"
          ]
        }
      ]
    },
    {
      "cell_type": "markdown",
      "source": [
        "An example of reading the output of the table is as follows: <br/>\n",
        " `v1 = 0.53 * Murder + 0.58 * Assault + 0.28 * UrbanPop + 0.54 * Rape`, etc for the other columns."
      ],
      "metadata": {
        "id": "D4Zji0jrVHWz"
      }
    },
    {
      "cell_type": "markdown",
      "metadata": {
        "id": "3a0c00b3"
      },
      "source": [
        "We see that there are four distinct principal components. This is to\n",
        "be expected because there are in general $\\min(n-1,p)$ informative\n",
        "principal components in a data set with $n$ observations and $p$\n",
        "variables.\n",
        "\n",
        "Using the `PCA()` function, we do not need to explicitly multiply the data by the principal component loading vectors  in order to obtain the principal component score vectors. Instead of just using \"fit\" as above, we can use \"fit_and_transform\" to immediately obtain the transformed data. The $50 \\times 4$ matrix that we get as output has as its columns the principal component score vectors. That is, the $k$th column is the $k$th principal component score vector."
      ]
    },
    {
      "cell_type": "code",
      "metadata": {
        "id": "7F95X4LMQXuA",
        "colab": {
          "base_uri": "https://localhost:8080/",
          "height": 206
        },
        "outputId": "f87d6984-634f-49b3-e689-1876ae75c11d"
      },
      "source": [
        "# Fit the PCA model and transform X to get the principal components\n",
        "pca = PCA(random_state=42)\n",
        "pca_df = pd.DataFrame(pca.fit_transform(X_scaled), columns=['PC1', 'PC2', 'PC3', 'PC4'], index=USArrests.index)\n",
        "pca_df.head()"
      ],
      "execution_count": 16,
      "outputs": [
        {
          "output_type": "execute_result",
          "data": {
            "text/html": [
              "\n",
              "  <div id=\"df-3063798d-b053-48c2-8710-67836da1b39d\">\n",
              "    <div class=\"colab-df-container\">\n",
              "      <div>\n",
              "<style scoped>\n",
              "    .dataframe tbody tr th:only-of-type {\n",
              "        vertical-align: middle;\n",
              "    }\n",
              "\n",
              "    .dataframe tbody tr th {\n",
              "        vertical-align: top;\n",
              "    }\n",
              "\n",
              "    .dataframe thead th {\n",
              "        text-align: right;\n",
              "    }\n",
              "</style>\n",
              "<table border=\"1\" class=\"dataframe\">\n",
              "  <thead>\n",
              "    <tr style=\"text-align: right;\">\n",
              "      <th></th>\n",
              "      <th>PC1</th>\n",
              "      <th>PC2</th>\n",
              "      <th>PC3</th>\n",
              "      <th>PC4</th>\n",
              "    </tr>\n",
              "  </thead>\n",
              "  <tbody>\n",
              "    <tr>\n",
              "      <th>Alabama</th>\n",
              "      <td>0.985566</td>\n",
              "      <td>1.133392</td>\n",
              "      <td>-0.444269</td>\n",
              "      <td>0.156267</td>\n",
              "    </tr>\n",
              "    <tr>\n",
              "      <th>Alaska</th>\n",
              "      <td>1.950138</td>\n",
              "      <td>1.073213</td>\n",
              "      <td>2.040003</td>\n",
              "      <td>-0.438583</td>\n",
              "    </tr>\n",
              "    <tr>\n",
              "      <th>Arizona</th>\n",
              "      <td>1.763164</td>\n",
              "      <td>-0.745957</td>\n",
              "      <td>0.054781</td>\n",
              "      <td>-0.834653</td>\n",
              "    </tr>\n",
              "    <tr>\n",
              "      <th>Arkansas</th>\n",
              "      <td>-0.141420</td>\n",
              "      <td>1.119797</td>\n",
              "      <td>0.114574</td>\n",
              "      <td>-0.182811</td>\n",
              "    </tr>\n",
              "    <tr>\n",
              "      <th>California</th>\n",
              "      <td>2.523980</td>\n",
              "      <td>-1.542934</td>\n",
              "      <td>0.598557</td>\n",
              "      <td>-0.341996</td>\n",
              "    </tr>\n",
              "  </tbody>\n",
              "</table>\n",
              "</div>\n",
              "      <button class=\"colab-df-convert\" onclick=\"convertToInteractive('df-3063798d-b053-48c2-8710-67836da1b39d')\"\n",
              "              title=\"Convert this dataframe to an interactive table.\"\n",
              "              style=\"display:none;\">\n",
              "        \n",
              "  <svg xmlns=\"http://www.w3.org/2000/svg\" height=\"24px\"viewBox=\"0 0 24 24\"\n",
              "       width=\"24px\">\n",
              "    <path d=\"M0 0h24v24H0V0z\" fill=\"none\"/>\n",
              "    <path d=\"M18.56 5.44l.94 2.06.94-2.06 2.06-.94-2.06-.94-.94-2.06-.94 2.06-2.06.94zm-11 1L8.5 8.5l.94-2.06 2.06-.94-2.06-.94L8.5 2.5l-.94 2.06-2.06.94zm10 10l.94 2.06.94-2.06 2.06-.94-2.06-.94-.94-2.06-.94 2.06-2.06.94z\"/><path d=\"M17.41 7.96l-1.37-1.37c-.4-.4-.92-.59-1.43-.59-.52 0-1.04.2-1.43.59L10.3 9.45l-7.72 7.72c-.78.78-.78 2.05 0 2.83L4 21.41c.39.39.9.59 1.41.59.51 0 1.02-.2 1.41-.59l7.78-7.78 2.81-2.81c.8-.78.8-2.07 0-2.86zM5.41 20L4 18.59l7.72-7.72 1.47 1.35L5.41 20z\"/>\n",
              "  </svg>\n",
              "      </button>\n",
              "      \n",
              "  <style>\n",
              "    .colab-df-container {\n",
              "      display:flex;\n",
              "      flex-wrap:wrap;\n",
              "      gap: 12px;\n",
              "    }\n",
              "\n",
              "    .colab-df-convert {\n",
              "      background-color: #E8F0FE;\n",
              "      border: none;\n",
              "      border-radius: 50%;\n",
              "      cursor: pointer;\n",
              "      display: none;\n",
              "      fill: #1967D2;\n",
              "      height: 32px;\n",
              "      padding: 0 0 0 0;\n",
              "      width: 32px;\n",
              "    }\n",
              "\n",
              "    .colab-df-convert:hover {\n",
              "      background-color: #E2EBFA;\n",
              "      box-shadow: 0px 1px 2px rgba(60, 64, 67, 0.3), 0px 1px 3px 1px rgba(60, 64, 67, 0.15);\n",
              "      fill: #174EA6;\n",
              "    }\n",
              "\n",
              "    [theme=dark] .colab-df-convert {\n",
              "      background-color: #3B4455;\n",
              "      fill: #D2E3FC;\n",
              "    }\n",
              "\n",
              "    [theme=dark] .colab-df-convert:hover {\n",
              "      background-color: #434B5C;\n",
              "      box-shadow: 0px 1px 3px 1px rgba(0, 0, 0, 0.15);\n",
              "      filter: drop-shadow(0px 1px 2px rgba(0, 0, 0, 0.3));\n",
              "      fill: #FFFFFF;\n",
              "    }\n",
              "  </style>\n",
              "\n",
              "      <script>\n",
              "        const buttonEl =\n",
              "          document.querySelector('#df-3063798d-b053-48c2-8710-67836da1b39d button.colab-df-convert');\n",
              "        buttonEl.style.display =\n",
              "          google.colab.kernel.accessAllowed ? 'block' : 'none';\n",
              "\n",
              "        async function convertToInteractive(key) {\n",
              "          const element = document.querySelector('#df-3063798d-b053-48c2-8710-67836da1b39d');\n",
              "          const dataTable =\n",
              "            await google.colab.kernel.invokeFunction('convertToInteractive',\n",
              "                                                     [key], {});\n",
              "          if (!dataTable) return;\n",
              "\n",
              "          const docLinkHtml = 'Like what you see? Visit the ' +\n",
              "            '<a target=\"_blank\" href=https://colab.research.google.com/notebooks/data_table.ipynb>data table notebook</a>'\n",
              "            + ' to learn more about interactive tables.';\n",
              "          element.innerHTML = '';\n",
              "          dataTable['output_type'] = 'display_data';\n",
              "          await google.colab.output.renderOutput(dataTable, element);\n",
              "          const docLink = document.createElement('div');\n",
              "          docLink.innerHTML = docLinkHtml;\n",
              "          element.appendChild(docLink);\n",
              "        }\n",
              "      </script>\n",
              "    </div>\n",
              "  </div>\n",
              "  "
            ],
            "text/plain": [
              "                 PC1       PC2       PC3       PC4\n",
              "Alabama     0.985566  1.133392 -0.444269  0.156267\n",
              "Alaska      1.950138  1.073213  2.040003 -0.438583\n",
              "Arizona     1.763164 -0.745957  0.054781 -0.834653\n",
              "Arkansas   -0.141420  1.119797  0.114574 -0.182811\n",
              "California  2.523980 -1.542934  0.598557 -0.341996"
            ]
          },
          "metadata": {},
          "execution_count": 16
        }
      ]
    },
    {
      "cell_type": "code",
      "metadata": {
        "id": "Lq9uQkt17TvY",
        "colab": {
          "base_uri": "https://localhost:8080/"
        },
        "outputId": "8226e7e1-a614-4e80-a7af-0afbb0010190"
      },
      "source": [
        "pca_df.shape"
      ],
      "execution_count": 17,
      "outputs": [
        {
          "output_type": "execute_result",
          "data": {
            "text/plain": [
              "(50, 4)"
            ]
          },
          "metadata": {},
          "execution_count": 17
        }
      ]
    },
    {
      "cell_type": "markdown",
      "metadata": {
        "id": "dfeb812d"
      },
      "source": [
        "We can plot the first two principal components as follows:"
      ]
    },
    {
      "cell_type": "code",
      "metadata": {
        "id": "doIBggc0RKCD"
      },
      "source": [
        "def biplot(df_plot, pca_loadings):\n",
        "  \"\"\"\n",
        "  Plots first two principal components.\n",
        "  Ref: https://github.com/jcrouser/islr-python/blob/master/Lab%2018%20-%20PCA%20in%20Python.ipynb\n",
        "  \"\"\"\n",
        "  fig , ax1 = plt.subplots(figsize=(9,7))\n",
        "\n",
        "  ax1.set_xlim(-3.5,3.5)\n",
        "  ax1.set_ylim(-3.5,3.5)\n",
        "\n",
        "  # Plot Principal Components 1 and 2\n",
        "  for i in df_plot.index:\n",
        "      ax1.annotate(i, (df_plot.PC1.loc[i], df_plot.PC2.loc[i]), ha='center')\n",
        "\n",
        "  # Plot reference lines\n",
        "  ax1.hlines(0,-3.5,3.5, linestyles='dotted', colors='grey')\n",
        "  ax1.vlines(0,-3.5,3.5, linestyles='dotted', colors='grey')\n",
        "\n",
        "  ax1.set_xlabel('PC1')\n",
        "  ax1.set_ylabel('PC2')\n",
        "      \n",
        "  # Plot Principal Component loading vectors, using a second y-axis.\n",
        "  ax2 = ax1.twinx().twiny() \n",
        "\n",
        "  ax2.set_ylim(-1,1)\n",
        "  ax2.set_xlim(-1,1)\n",
        "  ax2.set_xlabel('Principal Component loading vectors', color='red')\n",
        "\n",
        "  # Plot labels for vectors. Variable 'a' is a small offset parameter to separate arrow tip and text.\n",
        "  a = 1.07  \n",
        "  for i in pca_loadings[['V1', 'V2']].index:\n",
        "      ax2.annotate(i, (pca_loadings.V1.loc[i]*a, pca_loadings.V2.loc[i]*a), color='red')\n",
        "\n",
        "  # Plot vectors\n",
        "  for i in range(len(pca_loadings.V1)):\n",
        "   ax2.arrow(0,0,pca_loadings.V1[i], pca_loadings.V2[i], color='r', length_includes_head=True, head_width=0.03)"
      ],
      "execution_count": 18,
      "outputs": []
    },
    {
      "cell_type": "code",
      "metadata": {
        "id": "1GwudLlTRWKY",
        "colab": {
          "base_uri": "https://localhost:8080/",
          "height": 471
        },
        "outputId": "c82d0b79-ae36-4dca-c8bd-6ff28917af0e"
      },
      "source": [
        "biplot(pca_df, pca_loadings)"
      ],
      "execution_count": 19,
      "outputs": [
        {
          "output_type": "display_data",
          "data": {
            "image/png": "[encoded data removed]",
            "text/plain": [
              "<Figure size 648x504 with 3 Axes>"
            ]
          },
          "metadata": {
            "needs_background": "light"
          }
        }
      ]
    },
    {
      "cell_type": "markdown",
      "metadata": {
        "id": "99ba225a"
      },
      "source": [
        "Notice that this figure is a mirror image of Figure 12.1. Recall that the principal components are only unique up to a sign change. We can indeed compare the loadings reported in Table 12.1 in the book with the loadings obtained above. This makes clear that for the second PC, there is a sign change. Hence, we can reproduce Figure 12.1 by making a few small changes:"
      ]
    },
    {
      "cell_type": "code",
      "metadata": {
        "id": "KSbdWzzK-X-d"
      },
      "source": [
        "inverse_loadings = pca_loadings\n",
        "inverse_loadings.V2=-inverse_loadings.V2\n",
        "inverse_pca_df = pca_df\n",
        "inverse_pca_df.PC2 = -inverse_pca_df.PC2"
      ],
      "execution_count": 20,
      "outputs": []
    },
    {
      "cell_type": "code",
      "metadata": {
        "id": "6fD-MxVR9uRo",
        "colab": {
          "base_uri": "https://localhost:8080/",
          "height": 471
        },
        "outputId": "4c40bc8c-f93e-499a-93de-81a9de9d6bd6"
      },
      "source": [
        "biplot(inverse_pca_df, inverse_loadings)"
      ],
      "execution_count": 21,
      "outputs": [
        {
          "output_type": "display_data",
          "data": {
            "image/png": "[encoded data removed]",
            "text/plain": [
              "<Figure size 648x504 with 3 Axes>"
            ]
          },
          "metadata": {
            "needs_background": "light"
          }
        }
      ]
    },
    {
      "cell_type": "markdown",
      "metadata": {
        "id": "713fc509"
      },
      "source": [
        "The `PCA()` function also outputs the explained variance of each principal component. For instance, on the `USArrests` data set, we can access these explained variances from the `pca` object as follows:"
      ]
    },
    {
      "cell_type": "code",
      "metadata": {
        "id": "cFmzooaC_nGG",
        "colab": {
          "base_uri": "https://localhost:8080/"
        },
        "outputId": "16f7a8e0-1460-433a-d495-7f8ad265972e"
      },
      "source": [
        "pca.explained_variance_"
      ],
      "execution_count": 22,
      "outputs": [
        {
          "output_type": "execute_result",
          "data": {
            "text/plain": [
              "array([2.53085875, 1.00996444, 0.36383998, 0.17696948])"
            ]
          },
          "metadata": {},
          "execution_count": 22
        }
      ]
    },
    {
      "cell_type": "markdown",
      "metadata": {
        "id": "85eb1490"
      },
      "source": [
        "To compute the proportion of variance explained by each principal component, we simply divide the variance explained by each principal component by the total variance explained by all four principal components. This is provided by the `explained_variance_ratio_`."
      ]
    },
    {
      "cell_type": "code",
      "metadata": {
        "id": "d_XsW_gm_xJf",
        "colab": {
          "base_uri": "https://localhost:8080/"
        },
        "outputId": "50272c28-5365-452c-b2a4-0ae55b93ed8c"
      },
      "source": [
        "pca.explained_variance_ratio_"
      ],
      "execution_count": 23,
      "outputs": [
        {
          "output_type": "execute_result",
          "data": {
            "text/plain": [
              "array([0.62006039, 0.24744129, 0.0891408 , 0.04335752])"
            ]
          },
          "metadata": {},
          "execution_count": 23
        }
      ]
    },
    {
      "cell_type": "markdown",
      "metadata": {
        "id": "212a7d24"
      },
      "source": [
        "We see that the first principal component explains $62.0\\,\\%$ of the variance in the data, the next principal component explains $24.7\\,\\%$ of the variance, and so forth.\n",
        " We can plot the PVE explained by each component, as well as the cumulative PVE, as follows:"
      ]
    },
    {
      "cell_type": "code",
      "metadata": {
        "id": "dk-80u4ycO5u"
      },
      "source": [
        "def variance_plots(pca, nr_pcs):\n",
        "  fig , (ax1,ax2) = plt.subplots(1,2, figsize=(9,5))\n",
        "\n",
        "  # Left plot\n",
        "  ax1.plot(list(range(1, nr_pcs+1)), pca.explained_variance_ratio_, '-o')\n",
        "  ax1.set_ylabel('Proportion of Variance Explained')\n",
        "  ax1.set_ylim(ymin=0.0, ymax=1.05)\n",
        "\n",
        "  # Right plot\n",
        "  ax2.plot(list(range(1, nr_pcs+1)), np.cumsum(pca.explained_variance_ratio_), '-ro')\n",
        "  ax2.set_ylabel('Cumulative Proportion of Variance Explained')\n",
        "  ax2.set_ylim(ymin=0.0, ymax=1.05)\n",
        "\n",
        "  for ax in fig.axes:\n",
        "      ax.set_xlabel('Principal Component')\n",
        "      ax.set_xlim(0.95, nr_pcs+0.2)    "
      ],
      "execution_count": 24,
      "outputs": []
    },
    {
      "cell_type": "code",
      "source": [
        "variance_plots(pca,4)"
      ],
      "metadata": {
        "id": "qox8mLquM7ol",
        "colab": {
          "base_uri": "https://localhost:8080/",
          "height": 334
        },
        "outputId": "20faf6c8-cd5c-43f1-b9b0-f742c6c4a23b"
      },
      "execution_count": 25,
      "outputs": [
        {
          "output_type": "display_data",
          "data": {
            "image/png": "[encoded data removed]",
            "text/plain": [
              "<Figure size 648x360 with 2 Axes>"
            ]
          },
          "metadata": {
            "needs_background": "light"
          }
        }
      ]
    },
    {
      "cell_type": "markdown",
      "metadata": {
        "id": "726ce33d"
      },
      "source": [
        "Note that the function `np.cumsum()` computes the cumulative sum of the elements of  a numeric array. For instance:"
      ]
    },
    {
      "cell_type": "code",
      "metadata": {
        "id": "wB2Q9BsdBzyF",
        "colab": {
          "base_uri": "https://localhost:8080/"
        },
        "outputId": "772972b2-c973-4b33-e912-f4605e19468d"
      },
      "source": [
        "a = np.asarray([1, 2, 8, -3])\n",
        "np.cumsum(a)"
      ],
      "execution_count": 26,
      "outputs": [
        {
          "output_type": "execute_result",
          "data": {
            "text/plain": [
              "array([ 1,  3, 11,  8])"
            ]
          },
          "metadata": {},
          "execution_count": 26
        }
      ]
    },
    {
      "cell_type": "markdown",
      "source": [
        "## 12.5.3 Clustering\n",
        "(Note: only Hierarchical Clustering from this lab section.)"
      ],
      "metadata": {
        "id": "NH6h46EYZCTZ"
      }
    },
    {
      "cell_type": "markdown",
      "source": [
        "In the following example we random data in 2D to which we add a clear group structure. We obtain the hierarchical clustering dendrogram using complete, single, and average linkage clustering, with  Euclidean distance as the default dissimilarity measure."
      ],
      "metadata": {
        "id": "IB7nB8fPOQzf"
      }
    },
    {
      "cell_type": "code",
      "source": [
        "np.random.seed(19)\n",
        "X = np.random.normal(size = (50,2))\n",
        "X[:25,0] += 3 \n",
        "X[:25,1] -= 4"
      ],
      "metadata": {
        "id": "b_zHfQH-0ACi"
      },
      "execution_count": 28,
      "outputs": []
    },
    {
      "cell_type": "code",
      "source": [
        "plt.scatter(X[:,0],X[:,1])\n",
        "plt.show()"
      ],
      "metadata": {
        "id": "twgKoUmY0F2w",
        "colab": {
          "base_uri": "https://localhost:8080/",
          "height": 265
        },
        "outputId": "c4299732-8c12-4bd2-bbaf-f865c147d71c"
      },
      "execution_count": 29,
      "outputs": [
        {
          "output_type": "display_data",
          "data": {
            "image/png": "[encoded data removed]",
            "text/plain": [
              "<Figure size 432x288 with 1 Axes>"
            ]
          },
          "metadata": {
            "needs_background": "light"
          }
        }
      ]
    },
    {
      "cell_type": "code",
      "source": [
        "import scipy.cluster.hierarchy as shc\n",
        "from scipy.cluster.hierarchy import fcluster, cut_tree, linkage, dendrogram"
      ],
      "metadata": {
        "id": "4lyw_MTyZSTu"
      },
      "execution_count": 30,
      "outputs": []
    },
    {
      "cell_type": "markdown",
      "source": [
        "\n",
        "The `linkage()` function implements  hierarchical clustering in `Python`. \n",
        "We begin by clustering observations using complete linkage."
      ],
      "metadata": {
        "id": "SIcTMbRJ0NM7"
      }
    },
    {
      "cell_type": "code",
      "source": [
        "hc_complete = linkage(X, method='complete')"
      ],
      "metadata": {
        "id": "SXRITDcuZe7-"
      },
      "execution_count": 31,
      "outputs": []
    },
    {
      "cell_type": "markdown",
      "metadata": {
        "id": "ca3cf79b"
      },
      "source": [
        "We could just as easily perform hierarchical clustering with average or single linkage instead:"
      ]
    },
    {
      "cell_type": "code",
      "metadata": {
        "id": "T4mj4tNtJpx3"
      },
      "source": [
        "hc_avg = linkage(X, method='average')\n",
        "hc_single = linkage(X, method='single')"
      ],
      "execution_count": 32,
      "outputs": []
    },
    {
      "cell_type": "markdown",
      "metadata": {
        "id": "85863d99"
      },
      "source": [
        "We can now plot the dendrograms obtained using the `dendrogram()` function. The numbers at the bottom of the plot identify each observation."
      ]
    },
    {
      "cell_type": "code",
      "metadata": {
        "id": "R8VKK1AyI8hO",
        "colab": {
          "base_uri": "https://localhost:8080/",
          "height": 445
        },
        "outputId": "95748ecb-4e63-4903-cfa8-ce0bc55ac291"
      },
      "source": [
        "# dendrogram\n",
        "plt.figure(figsize=(10, 7))  \n",
        "plt.title(\"Complete Linkage\")\n",
        "plt.ylabel(\"Height\")\n",
        "dend = dendrogram(hc_complete)"
      ],
      "execution_count": 33,
      "outputs": [
        {
          "output_type": "display_data",
          "data": {
            "image/png": "[encoded data removed]",
            "text/plain": [
              "<Figure size 720x504 with 1 Axes>"
            ]
          },
          "metadata": {
            "needs_background": "light"
          }
        }
      ]
    },
    {
      "cell_type": "code",
      "metadata": {
        "id": "sKtyN5F5Jy5u",
        "colab": {
          "base_uri": "https://localhost:8080/",
          "height": 445
        },
        "outputId": "9e795982-d0da-43c6-a517-f615e76edffb"
      },
      "source": [
        "plt.figure(figsize=(10, 7))  \n",
        "plt.title(\"Average Linkage\")  \n",
        "plt.ylabel(\"Height\")\n",
        "dend = dendrogram(hc_avg)"
      ],
      "execution_count": 34,
      "outputs": [
        {
          "output_type": "display_data",
          "data": {
            "image/png": "[encoded data removed]",
            "text/plain": [
              "<Figure size 720x504 with 1 Axes>"
            ]
          },
          "metadata": {
            "needs_background": "light"
          }
        }
      ]
    },
    {
      "cell_type": "code",
      "metadata": {
        "id": "bq3X3lTwJzFf",
        "colab": {
          "base_uri": "https://localhost:8080/",
          "height": 445
        },
        "outputId": "cf4a356d-75b7-4c97-abdb-6f672f58938a"
      },
      "source": [
        "plt.figure(figsize=(10, 7))  \n",
        "plt.title(\"Single Linkage\")  \n",
        "plt.ylabel(\"Height\")\n",
        "dend = dendrogram(hc_single)"
      ],
      "execution_count": 35,
      "outputs": [
        {
          "output_type": "display_data",
          "data": {
            "image/png": "[encoded data removed]",
            "text/plain": [
              "<Figure size 720x504 with 1 Axes>"
            ]
          },
          "metadata": {
            "needs_background": "light"
          }
        }
      ]
    },
    {
      "cell_type": "markdown",
      "metadata": {
        "id": "c0c14da6"
      },
      "source": [
        "To determine the cluster labels for each observation associated with a given cut of the dendrogram, we can use the `cut_tree()` function:"
      ]
    },
    {
      "cell_type": "code",
      "metadata": {
        "name": "chunk37",
        "id": "548fe381",
        "colab": {
          "base_uri": "https://localhost:8080/"
        },
        "outputId": "c0cb0521-bab0-498d-d8d2-888734966126"
      },
      "source": [
        "# Note: we add .ravel() so the shape is not (50, 1) [50 elements below each other]\n",
        "#  but (50, ) instead. If this is not clear, check what you get without .ravel() at the end\n",
        "cut_tree(hc_complete, 2).ravel()"
      ],
      "execution_count": 36,
      "outputs": [
        {
          "output_type": "execute_result",
          "data": {
            "text/plain": [
              "array([0, 0, 0, 0, 0, 0, 0, 0, 0, 0, 0, 0, 0, 0, 0, 0, 0, 0, 0, 0, 0, 0,\n",
              "       0, 0, 0, 1, 1, 1, 1, 1, 1, 1, 1, 1, 1, 1, 1, 1, 1, 1, 1, 1, 1, 1,\n",
              "       1, 1, 1, 1, 1, 1])"
            ]
          },
          "metadata": {},
          "execution_count": 36
        }
      ]
    },
    {
      "cell_type": "code",
      "metadata": {
        "id": "kiA0UH3JLMYm",
        "colab": {
          "base_uri": "https://localhost:8080/"
        },
        "outputId": "87fadd61-4e81-41d9-af89-8815137e39bb"
      },
      "source": [
        "cut_tree(hc_avg, 2).ravel()"
      ],
      "execution_count": 37,
      "outputs": [
        {
          "output_type": "execute_result",
          "data": {
            "text/plain": [
              "array([0, 0, 0, 0, 0, 0, 0, 0, 0, 0, 0, 0, 0, 0, 0, 0, 0, 0, 0, 0, 0, 0,\n",
              "       0, 0, 0, 1, 1, 1, 1, 1, 1, 1, 1, 1, 1, 1, 1, 1, 1, 1, 1, 1, 1, 1,\n",
              "       1, 1, 1, 1, 1, 1])"
            ]
          },
          "metadata": {},
          "execution_count": 37
        }
      ]
    },
    {
      "cell_type": "code",
      "metadata": {
        "id": "04smzt6VLMa3",
        "colab": {
          "base_uri": "https://localhost:8080/"
        },
        "outputId": "bcff8b8d-8ac2-4578-e786-8a52f2db1247"
      },
      "source": [
        "cut_tree(hc_single, 2).ravel()"
      ],
      "execution_count": 38,
      "outputs": [
        {
          "output_type": "execute_result",
          "data": {
            "text/plain": [
              "array([0, 0, 0, 0, 0, 0, 0, 0, 0, 0, 0, 0, 0, 0, 0, 0, 0, 0, 0, 0, 0, 0,\n",
              "       0, 0, 0, 1, 1, 1, 1, 1, 1, 1, 1, 1, 1, 1, 1, 1, 1, 1, 1, 1, 1, 1,\n",
              "       1, 1, 1, 1, 1, 1])"
            ]
          },
          "metadata": {},
          "execution_count": 38
        }
      ]
    },
    {
      "cell_type": "markdown",
      "metadata": {
        "id": "30c02099"
      },
      "source": [
        "The second argument to `cut_tree()` is the number of clusters we wish to obtain.\n",
        "For this data, irrespective of the linkage, hierarchical clustering generally separates the observations into their correct groups. However, this could vary depending on the random seed chosen above. If needed, you can vary the number of clusters, although in this case that does not make much sense:"
      ]
    },
    {
      "cell_type": "code",
      "metadata": {
        "id": "T25EQh1jLROe",
        "colab": {
          "base_uri": "https://localhost:8080/"
        },
        "outputId": "b57c3510-e057-4003-e1cd-4ecc6c735f6e"
      },
      "source": [
        "cut_tree(hc_single, 4).ravel()"
      ],
      "execution_count": 39,
      "outputs": [
        {
          "output_type": "execute_result",
          "data": {
            "text/plain": [
              "array([0, 0, 0, 0, 0, 0, 0, 0, 0, 0, 0, 0, 0, 0, 0, 0, 0, 0, 0, 0, 0, 0,\n",
              "       0, 0, 0, 1, 1, 2, 1, 1, 1, 1, 1, 1, 1, 1, 1, 1, 1, 1, 1, 3, 1, 3,\n",
              "       1, 1, 1, 1, 1, 3])"
            ]
          },
          "metadata": {},
          "execution_count": 39
        }
      ]
    },
    {
      "cell_type": "markdown",
      "metadata": {
        "id": "3823ee34"
      },
      "source": [
        "To scale the variables before performing hierarchical clustering of the observations, we once again use the `StandardScaler()` function from the `sklearn` library:"
      ]
    },
    {
      "cell_type": "code",
      "metadata": {
        "id": "OBFiAw2GL0CP",
        "colab": {
          "base_uri": "https://localhost:8080/"
        },
        "outputId": "704e9296-78e7-46bf-f28e-b4610a5cba87"
      },
      "source": [
        "# Scaling the data\n",
        "scaler = StandardScaler()\n",
        "X_scaled = scaler.fit_transform(X)\n",
        "\n",
        "\n",
        "print('Mean of first feature before scaling - ',X[:,0].mean())\n",
        "print('Mean of first feature after scaling - ',X_scaled[:,0].mean())"
      ],
      "execution_count": 40,
      "outputs": [
        {
          "output_type": "stream",
          "name": "stdout",
          "text": [
            "Mean of first feature before scaling -  1.637304066403301\n",
            "Mean of first feature after scaling -  5.806466418789569e-16\n"
          ]
        }
      ]
    },
    {
      "cell_type": "code",
      "metadata": {
        "id": "O2ygxnh3L5Ju",
        "colab": {
          "base_uri": "https://localhost:8080/",
          "height": 445
        },
        "outputId": "116764f0-b624-443e-c156-1004eb6af651"
      },
      "source": [
        "hc_complete_sc = linkage(X_scaled, method='complete')\n",
        "# dendrogram\n",
        "plt.figure(figsize=(10, 7))  \n",
        "plt.title(\"Hierarchical Clustering with Scaled Features\")\n",
        "plt.ylabel(\"Height\")\n",
        "dend = dendrogram(hc_complete_sc)"
      ],
      "execution_count": 41,
      "outputs": [
        {
          "output_type": "display_data",
          "data": {
            "image/png": "[encoded data removed]",
            "text/plain": [
              "<Figure size 720x504 with 1 Axes>"
            ]
          },
          "metadata": {
            "needs_background": "light"
          }
        }
      ]
    },
    {
      "cell_type": "markdown",
      "metadata": {
        "id": "2f93ef80"
      },
      "source": [
        "Correlation-based distance can be by passing the `method='correlation'` argument to the `linkage` function. However, this only makes sense for data with at least three features since the absolute correlation between any two observations\n",
        "with measurements on two features is always 1. Hence, we will cluster a three-dimensional data set. This data set does not contain any true clusters."
      ]
    },
    {
      "cell_type": "code",
      "metadata": {
        "id": "5i4EHKIxMkRw",
        "colab": {
          "base_uri": "https://localhost:8080/",
          "height": 451
        },
        "outputId": "5a3bf616-6666-4e89-d83f-1397310f402b"
      },
      "source": [
        "np.random.seed(1)\n",
        "X = np.random.normal(size=30*3).reshape(30, 3)\n",
        "\n",
        "hc_complete_corr_based = linkage(X, method='complete', metric='correlation')\n",
        "\n",
        "# dendrogram\n",
        "plt.figure(figsize=(10, 7))  \n",
        "plt.title(\"Complete Linkage with Correlation-Based Distance\")\n",
        "plt.ylabel(\"Height\")\n",
        "dend = dendrogram(hc_complete_corr_based)"
      ],
      "execution_count": 42,
      "outputs": [
        {
          "output_type": "display_data",
          "data": {
            "image/png": "[encoded data removed]",
            "text/plain": [
              "<Figure size 720x504 with 1 Axes>"
            ]
          },
          "metadata": {
            "needs_background": "light"
          }
        }
      ]
    },
    {
      "cell_type": "markdown",
      "metadata": {
        "id": "88b90c6d"
      },
      "source": [
        "## 12.5.4 NCI60 Data Example"
      ]
    },
    {
      "cell_type": "markdown",
      "metadata": {
        "id": "e263b013"
      },
      "source": [
        "Unsupervised techniques are often used in the analysis of genomic data. In particular, PCA and hierarchical clustering are popular tools.\n",
        " We  illustrate these techniques on the `NCI` cancer cell line microarray data, which consists of $6{,}830$ gene expression measurements on $64$ cancer cell lines."
      ]
    },
    {
      "cell_type": "code",
      "metadata": {
        "id": "ouH7tG0iN0j9"
      },
      "source": [
        "X = pd.read_csv('data/islr_data/NCI60_X.csv').drop('Unnamed: 0', axis=1)\n",
        "y = pd.read_csv('data/islr_data/NCI60_y.csv', usecols=[1], skiprows=1, names=['labs'])"
      ],
      "execution_count": 43,
      "outputs": []
    },
    {
      "cell_type": "markdown",
      "metadata": {
        "id": "4e5a9590"
      },
      "source": [
        "Each cell line is labeled with a cancer type, given in `nci.labs`. We do not make use of the cancer types in performing PCA and clustering, as these are unsupervised techniques. But\n",
        "after performing PCA and clustering, we will\n",
        "check to see the extent to which these cancer types agree with the results of these unsupervised techniques.\n",
        "\n",
        "The data has $64$ rows and $6{,}830$ columns."
      ]
    },
    {
      "cell_type": "code",
      "metadata": {
        "id": "lJJZ3pUbXa0e",
        "colab": {
          "base_uri": "https://localhost:8080/"
        },
        "outputId": "c549df71-add2-409f-e232-8a5e99a4a76d"
      },
      "source": [
        "X.shape"
      ],
      "execution_count": 44,
      "outputs": [
        {
          "output_type": "execute_result",
          "data": {
            "text/plain": [
              "(64, 6830)"
            ]
          },
          "metadata": {},
          "execution_count": 44
        }
      ]
    },
    {
      "cell_type": "code",
      "metadata": {
        "id": "WPEwYNCFaGRW",
        "colab": {
          "base_uri": "https://localhost:8080/",
          "height": 386
        },
        "outputId": "fd60161d-1edd-445d-e28a-e56eec220d69"
      },
      "source": [
        "X.head()"
      ],
      "execution_count": 45,
      "outputs": [
        {
          "output_type": "execute_result",
          "data": {
            "text/html": [
              "\n",
              "  <div id=\"df-31409bfe-5fad-419b-b1c0-9db4d1e0d754\">\n",
              "    <div class=\"colab-df-container\">\n",
              "      <div>\n",
              "<style scoped>\n",
              "    .dataframe tbody tr th:only-of-type {\n",
              "        vertical-align: middle;\n",
              "    }\n",
              "\n",
              "    .dataframe tbody tr th {\n",
              "        vertical-align: top;\n",
              "    }\n",
              "\n",
              "    .dataframe thead th {\n",
              "        text-align: right;\n",
              "    }\n",
              "</style>\n",
              "<table border=\"1\" class=\"dataframe\">\n",
              "  <thead>\n",
              "    <tr style=\"text-align: right;\">\n",
              "      <th></th>\n",
              "      <th>1</th>\n",
              "      <th>2</th>\n",
              "      <th>3</th>\n",
              "      <th>4</th>\n",
              "      <th>5</th>\n",
              "      <th>6</th>\n",
              "      <th>7</th>\n",
              "      <th>8</th>\n",
              "      <th>9</th>\n",
              "      <th>10</th>\n",
              "      <th>11</th>\n",
              "      <th>12</th>\n",
              "      <th>13</th>\n",
              "      <th>14</th>\n",
              "      <th>15</th>\n",
              "      <th>16</th>\n",
              "      <th>17</th>\n",
              "      <th>18</th>\n",
              "      <th>19</th>\n",
              "      <th>20</th>\n",
              "      <th>21</th>\n",
              "      <th>22</th>\n",
              "      <th>23</th>\n",
              "      <th>24</th>\n",
              "      <th>25</th>\n",
              "      <th>26</th>\n",
              "      <th>27</th>\n",
              "      <th>28</th>\n",
              "      <th>29</th>\n",
              "      <th>30</th>\n",
              "      <th>31</th>\n",
              "      <th>32</th>\n",
              "      <th>33</th>\n",
              "      <th>34</th>\n",
              "      <th>35</th>\n",
              "      <th>36</th>\n",
              "      <th>37</th>\n",
              "      <th>38</th>\n",
              "      <th>39</th>\n",
              "      <th>40</th>\n",
              "      <th>...</th>\n",
              "      <th>6791</th>\n",
              "      <th>6792</th>\n",
              "      <th>6793</th>\n",
              "      <th>6794</th>\n",
              "      <th>6795</th>\n",
              "      <th>6796</th>\n",
              "      <th>6797</th>\n",
              "      <th>6798</th>\n",
              "      <th>6799</th>\n",
              "      <th>6800</th>\n",
              "      <th>6801</th>\n",
              "      <th>6802</th>\n",
              "      <th>6803</th>\n",
              "      <th>6804</th>\n",
              "      <th>6805</th>\n",
              "      <th>6806</th>\n",
              "      <th>6807</th>\n",
              "      <th>6808</th>\n",
              "      <th>6809</th>\n",
              "      <th>6810</th>\n",
              "      <th>6811</th>\n",
              "      <th>6812</th>\n",
              "      <th>6813</th>\n",
              "      <th>6814</th>\n",
              "      <th>6815</th>\n",
              "      <th>6816</th>\n",
              "      <th>6817</th>\n",
              "      <th>6818</th>\n",
              "      <th>6819</th>\n",
              "      <th>6820</th>\n",
              "      <th>6821</th>\n",
              "      <th>6822</th>\n",
              "      <th>6823</th>\n",
              "      <th>6824</th>\n",
              "      <th>6825</th>\n",
              "      <th>6826</th>\n",
              "      <th>6827</th>\n",
              "      <th>6828</th>\n",
              "      <th>6829</th>\n",
              "      <th>6830</th>\n",
              "    </tr>\n",
              "  </thead>\n",
              "  <tbody>\n",
              "    <tr>\n",
              "      <th>0</th>\n",
              "      <td>0.300000</td>\n",
              "      <td>1.180000</td>\n",
              "      <td>0.550000</td>\n",
              "      <td>1.140000</td>\n",
              "      <td>-0.265000</td>\n",
              "      <td>-7.000000e-02</td>\n",
              "      <td>0.350000</td>\n",
              "      <td>-0.315000</td>\n",
              "      <td>-0.450000</td>\n",
              "      <td>-0.654980</td>\n",
              "      <td>-0.650000</td>\n",
              "      <td>-0.940000</td>\n",
              "      <td>0.310000</td>\n",
              "      <td>0.01501</td>\n",
              "      <td>-0.080000</td>\n",
              "      <td>-2.37</td>\n",
              "      <td>-0.540000</td>\n",
              "      <td>-0.615000</td>\n",
              "      <td>0.000000</td>\n",
              "      <td>-0.519990</td>\n",
              "      <td>-0.370000</td>\n",
              "      <td>-0.290000</td>\n",
              "      <td>-0.174990</td>\n",
              "      <td>0.070000</td>\n",
              "      <td>-0.040000</td>\n",
              "      <td>0.025</td>\n",
              "      <td>-0.740000</td>\n",
              "      <td>-0.479990</td>\n",
              "      <td>-0.450000</td>\n",
              "      <td>-0.930000</td>\n",
              "      <td>0.160000</td>\n",
              "      <td>-0.550000</td>\n",
              "      <td>-0.550010</td>\n",
              "      <td>0.055000</td>\n",
              "      <td>-0.370000</td>\n",
              "      <td>-0.165000</td>\n",
              "      <td>0.210000</td>\n",
              "      <td>0.470000</td>\n",
              "      <td>0.000000</td>\n",
              "      <td>-2.602085e-18</td>\n",
              "      <td>...</td>\n",
              "      <td>0.240000</td>\n",
              "      <td>0.420000</td>\n",
              "      <td>0.100000</td>\n",
              "      <td>0.015000</td>\n",
              "      <td>0.000000</td>\n",
              "      <td>-0.204981</td>\n",
              "      <td>0.185020</td>\n",
              "      <td>0.460000</td>\n",
              "      <td>0.009980</td>\n",
              "      <td>-0.020000</td>\n",
              "      <td>-0.095000</td>\n",
              "      <td>0.210019</td>\n",
              "      <td>0.030000</td>\n",
              "      <td>0.190000</td>\n",
              "      <td>-0.130000</td>\n",
              "      <td>0.124990</td>\n",
              "      <td>0.150000</td>\n",
              "      <td>0.000000</td>\n",
              "      <td>0.375029</td>\n",
              "      <td>0.475000</td>\n",
              "      <td>0.120000</td>\n",
              "      <td>0.590000</td>\n",
              "      <td>0.335000</td>\n",
              "      <td>7.800000e-01</td>\n",
              "      <td>0.410000</td>\n",
              "      <td>-0.630000</td>\n",
              "      <td>1.215000</td>\n",
              "      <td>0.192500</td>\n",
              "      <td>0.000000</td>\n",
              "      <td>-0.820010</td>\n",
              "      <td>-0.990020</td>\n",
              "      <td>0.000000</td>\n",
              "      <td>0.030000</td>\n",
              "      <td>-0.175000</td>\n",
              "      <td>0.629981</td>\n",
              "      <td>-0.030000</td>\n",
              "      <td>0.000000</td>\n",
              "      <td>0.280000</td>\n",
              "      <td>-0.340000</td>\n",
              "      <td>-1.930000</td>\n",
              "    </tr>\n",
              "    <tr>\n",
              "      <th>1</th>\n",
              "      <td>0.679961</td>\n",
              "      <td>1.289961</td>\n",
              "      <td>0.169961</td>\n",
              "      <td>0.379961</td>\n",
              "      <td>0.464961</td>\n",
              "      <td>5.799610e-01</td>\n",
              "      <td>0.699961</td>\n",
              "      <td>0.724961</td>\n",
              "      <td>-0.040039</td>\n",
              "      <td>-0.285019</td>\n",
              "      <td>-0.310039</td>\n",
              "      <td>-0.720039</td>\n",
              "      <td>-0.010039</td>\n",
              "      <td>0.00000</td>\n",
              "      <td>-0.570039</td>\n",
              "      <td>0.00</td>\n",
              "      <td>-0.470039</td>\n",
              "      <td>-0.355039</td>\n",
              "      <td>0.004981</td>\n",
              "      <td>-0.480029</td>\n",
              "      <td>-0.140039</td>\n",
              "      <td>-0.090039</td>\n",
              "      <td>0.004971</td>\n",
              "      <td>-0.220039</td>\n",
              "      <td>-0.370039</td>\n",
              "      <td>0.000</td>\n",
              "      <td>-0.320039</td>\n",
              "      <td>0.159971</td>\n",
              "      <td>0.179961</td>\n",
              "      <td>-0.320039</td>\n",
              "      <td>-0.440039</td>\n",
              "      <td>0.349961</td>\n",
              "      <td>0.449951</td>\n",
              "      <td>0.104961</td>\n",
              "      <td>0.489961</td>\n",
              "      <td>0.204961</td>\n",
              "      <td>-0.050039</td>\n",
              "      <td>-0.010039</td>\n",
              "      <td>0.269961</td>\n",
              "      <td>1.996101e-02</td>\n",
              "      <td>...</td>\n",
              "      <td>0.799961</td>\n",
              "      <td>0.269961</td>\n",
              "      <td>0.479961</td>\n",
              "      <td>-0.245039</td>\n",
              "      <td>0.279961</td>\n",
              "      <td>0.014981</td>\n",
              "      <td>-0.075019</td>\n",
              "      <td>0.609961</td>\n",
              "      <td>0.099941</td>\n",
              "      <td>0.629961</td>\n",
              "      <td>0.474961</td>\n",
              "      <td>0.419980</td>\n",
              "      <td>-0.170039</td>\n",
              "      <td>-0.090039</td>\n",
              "      <td>-0.170039</td>\n",
              "      <td>0.494951</td>\n",
              "      <td>-0.120039</td>\n",
              "      <td>0.679961</td>\n",
              "      <td>-0.215010</td>\n",
              "      <td>0.484961</td>\n",
              "      <td>-0.130039</td>\n",
              "      <td>0.029961</td>\n",
              "      <td>0.154961</td>\n",
              "      <td>4.399610e-01</td>\n",
              "      <td>-0.320039</td>\n",
              "      <td>0.009961</td>\n",
              "      <td>0.684961</td>\n",
              "      <td>0.572461</td>\n",
              "      <td>0.629961</td>\n",
              "      <td>-0.400049</td>\n",
              "      <td>-0.270058</td>\n",
              "      <td>-0.300039</td>\n",
              "      <td>-0.250039</td>\n",
              "      <td>-0.535039</td>\n",
              "      <td>0.109941</td>\n",
              "      <td>-0.860039</td>\n",
              "      <td>-1.250049</td>\n",
              "      <td>-0.770039</td>\n",
              "      <td>-0.390039</td>\n",
              "      <td>-2.000039</td>\n",
              "    </tr>\n",
              "    <tr>\n",
              "      <th>2</th>\n",
              "      <td>0.940000</td>\n",
              "      <td>-0.040000</td>\n",
              "      <td>-0.170000</td>\n",
              "      <td>-0.040000</td>\n",
              "      <td>-0.605000</td>\n",
              "      <td>0.000000e+00</td>\n",
              "      <td>0.090000</td>\n",
              "      <td>0.645000</td>\n",
              "      <td>0.430000</td>\n",
              "      <td>0.475019</td>\n",
              "      <td>0.410000</td>\n",
              "      <td>0.130000</td>\n",
              "      <td>-0.350000</td>\n",
              "      <td>0.00000</td>\n",
              "      <td>0.000000</td>\n",
              "      <td>0.00</td>\n",
              "      <td>-0.800000</td>\n",
              "      <td>0.000000</td>\n",
              "      <td>-0.004981</td>\n",
              "      <td>0.000000</td>\n",
              "      <td>-0.140000</td>\n",
              "      <td>0.050000</td>\n",
              "      <td>-0.064990</td>\n",
              "      <td>-0.060000</td>\n",
              "      <td>0.290000</td>\n",
              "      <td>0.715</td>\n",
              "      <td>-0.070000</td>\n",
              "      <td>-0.089990</td>\n",
              "      <td>-0.310000</td>\n",
              "      <td>0.580000</td>\n",
              "      <td>-0.480000</td>\n",
              "      <td>0.230000</td>\n",
              "      <td>-0.040010</td>\n",
              "      <td>-0.935000</td>\n",
              "      <td>-0.750000</td>\n",
              "      <td>-0.385000</td>\n",
              "      <td>-0.340000</td>\n",
              "      <td>0.120000</td>\n",
              "      <td>-0.470000</td>\n",
              "      <td>1.700000e-01</td>\n",
              "      <td>...</td>\n",
              "      <td>0.010000</td>\n",
              "      <td>-0.190000</td>\n",
              "      <td>0.420000</td>\n",
              "      <td>0.145000</td>\n",
              "      <td>0.000000</td>\n",
              "      <td>0.065019</td>\n",
              "      <td>-0.644980</td>\n",
              "      <td>-0.070000</td>\n",
              "      <td>0.000000</td>\n",
              "      <td>0.370000</td>\n",
              "      <td>0.565000</td>\n",
              "      <td>0.460020</td>\n",
              "      <td>0.320000</td>\n",
              "      <td>0.100000</td>\n",
              "      <td>0.060000</td>\n",
              "      <td>0.124990</td>\n",
              "      <td>0.270000</td>\n",
              "      <td>0.480000</td>\n",
              "      <td>0.895029</td>\n",
              "      <td>0.225000</td>\n",
              "      <td>0.300000</td>\n",
              "      <td>0.680000</td>\n",
              "      <td>0.715000</td>\n",
              "      <td>5.300000e-01</td>\n",
              "      <td>0.000000</td>\n",
              "      <td>0.120000</td>\n",
              "      <td>0.295000</td>\n",
              "      <td>0.752500</td>\n",
              "      <td>0.380000</td>\n",
              "      <td>0.000000</td>\n",
              "      <td>0.319981</td>\n",
              "      <td>0.120000</td>\n",
              "      <td>-0.740000</td>\n",
              "      <td>-0.595000</td>\n",
              "      <td>-0.270020</td>\n",
              "      <td>-0.150000</td>\n",
              "      <td>0.000000</td>\n",
              "      <td>-0.120000</td>\n",
              "      <td>-0.410000</td>\n",
              "      <td>0.000000</td>\n",
              "    </tr>\n",
              "    <tr>\n",
              "      <th>3</th>\n",
              "      <td>0.280000</td>\n",
              "      <td>-0.310000</td>\n",
              "      <td>0.680000</td>\n",
              "      <td>-0.810000</td>\n",
              "      <td>0.625000</td>\n",
              "      <td>-1.387779e-17</td>\n",
              "      <td>0.170000</td>\n",
              "      <td>0.245000</td>\n",
              "      <td>0.020000</td>\n",
              "      <td>0.095019</td>\n",
              "      <td>-0.010000</td>\n",
              "      <td>-0.120000</td>\n",
              "      <td>-0.210000</td>\n",
              "      <td>0.00000</td>\n",
              "      <td>0.610000</td>\n",
              "      <td>-1.02</td>\n",
              "      <td>-0.470000</td>\n",
              "      <td>0.000000</td>\n",
              "      <td>-0.764980</td>\n",
              "      <td>0.000000</td>\n",
              "      <td>-0.310000</td>\n",
              "      <td>-0.620000</td>\n",
              "      <td>-0.284990</td>\n",
              "      <td>-0.540000</td>\n",
              "      <td>-0.520000</td>\n",
              "      <td>-0.135</td>\n",
              "      <td>-0.890000</td>\n",
              "      <td>-0.269990</td>\n",
              "      <td>-0.840000</td>\n",
              "      <td>-0.230000</td>\n",
              "      <td>0.320000</td>\n",
              "      <td>0.000000</td>\n",
              "      <td>0.109990</td>\n",
              "      <td>0.455000</td>\n",
              "      <td>-0.340000</td>\n",
              "      <td>-0.895000</td>\n",
              "      <td>-1.080000</td>\n",
              "      <td>-0.430000</td>\n",
              "      <td>-0.030000</td>\n",
              "      <td>-1.300000e-01</td>\n",
              "      <td>...</td>\n",
              "      <td>-0.400000</td>\n",
              "      <td>-0.470000</td>\n",
              "      <td>0.220000</td>\n",
              "      <td>-0.495000</td>\n",
              "      <td>-0.370000</td>\n",
              "      <td>-0.474981</td>\n",
              "      <td>-0.834981</td>\n",
              "      <td>-0.370000</td>\n",
              "      <td>0.289980</td>\n",
              "      <td>-0.210000</td>\n",
              "      <td>-0.785000</td>\n",
              "      <td>-0.199981</td>\n",
              "      <td>0.060000</td>\n",
              "      <td>0.400000</td>\n",
              "      <td>-0.160000</td>\n",
              "      <td>0.124990</td>\n",
              "      <td>0.380000</td>\n",
              "      <td>0.750000</td>\n",
              "      <td>1.525029</td>\n",
              "      <td>0.695000</td>\n",
              "      <td>0.570000</td>\n",
              "      <td>0.200000</td>\n",
              "      <td>0.185000</td>\n",
              "      <td>-6.938894e-18</td>\n",
              "      <td>0.000000</td>\n",
              "      <td>-0.080000</td>\n",
              "      <td>-0.875000</td>\n",
              "      <td>-0.587500</td>\n",
              "      <td>-0.570000</td>\n",
              "      <td>0.439990</td>\n",
              "      <td>-1.240020</td>\n",
              "      <td>-0.110000</td>\n",
              "      <td>-0.160000</td>\n",
              "      <td>0.095000</td>\n",
              "      <td>-0.350019</td>\n",
              "      <td>-0.300000</td>\n",
              "      <td>-1.150010</td>\n",
              "      <td>1.090000</td>\n",
              "      <td>-0.260000</td>\n",
              "      <td>-1.100000</td>\n",
              "    </tr>\n",
              "    <tr>\n",
              "      <th>4</th>\n",
              "      <td>0.485000</td>\n",
              "      <td>-0.465000</td>\n",
              "      <td>0.395000</td>\n",
              "      <td>0.905000</td>\n",
              "      <td>0.200000</td>\n",
              "      <td>-5.000000e-03</td>\n",
              "      <td>0.085000</td>\n",
              "      <td>0.110000</td>\n",
              "      <td>0.235000</td>\n",
              "      <td>1.490019</td>\n",
              "      <td>0.685000</td>\n",
              "      <td>0.605000</td>\n",
              "      <td>0.355000</td>\n",
              "      <td>1.22001</td>\n",
              "      <td>2.425000</td>\n",
              "      <td>0.00</td>\n",
              "      <td>-0.315000</td>\n",
              "      <td>0.310000</td>\n",
              "      <td>-0.519981</td>\n",
              "      <td>-0.074990</td>\n",
              "      <td>-0.865000</td>\n",
              "      <td>-0.455000</td>\n",
              "      <td>-0.499990</td>\n",
              "      <td>-0.245000</td>\n",
              "      <td>-0.235000</td>\n",
              "      <td>-0.330</td>\n",
              "      <td>0.000000</td>\n",
              "      <td>0.015010</td>\n",
              "      <td>-0.105000</td>\n",
              "      <td>-0.225000</td>\n",
              "      <td>-0.105000</td>\n",
              "      <td>-0.275000</td>\n",
              "      <td>-0.575010</td>\n",
              "      <td>-0.450000</td>\n",
              "      <td>-0.465000</td>\n",
              "      <td>-0.390000</td>\n",
              "      <td>-0.995000</td>\n",
              "      <td>-0.355000</td>\n",
              "      <td>0.000000</td>\n",
              "      <td>-4.750000e-01</td>\n",
              "      <td>...</td>\n",
              "      <td>-0.175000</td>\n",
              "      <td>0.015000</td>\n",
              "      <td>1.465000</td>\n",
              "      <td>-0.060000</td>\n",
              "      <td>-0.805000</td>\n",
              "      <td>-0.719981</td>\n",
              "      <td>-2.069981</td>\n",
              "      <td>-0.695000</td>\n",
              "      <td>1.464980</td>\n",
              "      <td>-0.055000</td>\n",
              "      <td>0.120000</td>\n",
              "      <td>0.095020</td>\n",
              "      <td>-0.635000</td>\n",
              "      <td>-0.195000</td>\n",
              "      <td>-0.115000</td>\n",
              "      <td>-0.190010</td>\n",
              "      <td>0.045000</td>\n",
              "      <td>-0.365000</td>\n",
              "      <td>0.150029</td>\n",
              "      <td>-0.030000</td>\n",
              "      <td>0.085000</td>\n",
              "      <td>0.165000</td>\n",
              "      <td>0.190000</td>\n",
              "      <td>1.500000e-02</td>\n",
              "      <td>0.375000</td>\n",
              "      <td>0.265000</td>\n",
              "      <td>0.000000</td>\n",
              "      <td>0.007500</td>\n",
              "      <td>-0.165000</td>\n",
              "      <td>1.524990</td>\n",
              "      <td>0.554980</td>\n",
              "      <td>-0.775000</td>\n",
              "      <td>-0.515000</td>\n",
              "      <td>-0.320000</td>\n",
              "      <td>0.634980</td>\n",
              "      <td>0.605000</td>\n",
              "      <td>0.000000</td>\n",
              "      <td>0.745000</td>\n",
              "      <td>0.425000</td>\n",
              "      <td>0.145000</td>\n",
              "    </tr>\n",
              "  </tbody>\n",
              "</table>\n",
              "<p>5 rows × 6830 columns</p>\n",
              "</div>\n",
              "      <button class=\"colab-df-convert\" onclick=\"convertToInteractive('df-31409bfe-5fad-419b-b1c0-9db4d1e0d754')\"\n",
              "              title=\"Convert this dataframe to an interactive table.\"\n",
              "              style=\"display:none;\">\n",
              "        \n",
              "  <svg xmlns=\"http://www.w3.org/2000/svg\" height=\"24px\"viewBox=\"0 0 24 24\"\n",
              "       width=\"24px\">\n",
              "    <path d=\"M0 0h24v24H0V0z\" fill=\"none\"/>\n",
              "    <path d=\"M18.56 5.44l.94 2.06.94-2.06 2.06-.94-2.06-.94-.94-2.06-.94 2.06-2.06.94zm-11 1L8.5 8.5l.94-2.06 2.06-.94-2.06-.94L8.5 2.5l-.94 2.06-2.06.94zm10 10l.94 2.06.94-2.06 2.06-.94-2.06-.94-.94-2.06-.94 2.06-2.06.94z\"/><path d=\"M17.41 7.96l-1.37-1.37c-.4-.4-.92-.59-1.43-.59-.52 0-1.04.2-1.43.59L10.3 9.45l-7.72 7.72c-.78.78-.78 2.05 0 2.83L4 21.41c.39.39.9.59 1.41.59.51 0 1.02-.2 1.41-.59l7.78-7.78 2.81-2.81c.8-.78.8-2.07 0-2.86zM5.41 20L4 18.59l7.72-7.72 1.47 1.35L5.41 20z\"/>\n",
              "  </svg>\n",
              "      </button>\n",
              "      \n",
              "  <style>\n",
              "    .colab-df-container {\n",
              "      display:flex;\n",
              "      flex-wrap:wrap;\n",
              "      gap: 12px;\n",
              "    }\n",
              "\n",
              "    .colab-df-convert {\n",
              "      background-color: #E8F0FE;\n",
              "      border: none;\n",
              "      border-radius: 50%;\n",
              "      cursor: pointer;\n",
              "      display: none;\n",
              "      fill: #1967D2;\n",
              "      height: 32px;\n",
              "      padding: 0 0 0 0;\n",
              "      width: 32px;\n",
              "    }\n",
              "\n",
              "    .colab-df-convert:hover {\n",
              "      background-color: #E2EBFA;\n",
              "      box-shadow: 0px 1px 2px rgba(60, 64, 67, 0.3), 0px 1px 3px 1px rgba(60, 64, 67, 0.15);\n",
              "      fill: #174EA6;\n",
              "    }\n",
              "\n",
              "    [theme=dark] .colab-df-convert {\n",
              "      background-color: #3B4455;\n",
              "      fill: #D2E3FC;\n",
              "    }\n",
              "\n",
              "    [theme=dark] .colab-df-convert:hover {\n",
              "      background-color: #434B5C;\n",
              "      box-shadow: 0px 1px 3px 1px rgba(0, 0, 0, 0.15);\n",
              "      filter: drop-shadow(0px 1px 2px rgba(0, 0, 0, 0.3));\n",
              "      fill: #FFFFFF;\n",
              "    }\n",
              "  </style>\n",
              "\n",
              "      <script>\n",
              "        const buttonEl =\n",
              "          document.querySelector('#df-31409bfe-5fad-419b-b1c0-9db4d1e0d754 button.colab-df-convert');\n",
              "        buttonEl.style.display =\n",
              "          google.colab.kernel.accessAllowed ? 'block' : 'none';\n",
              "\n",
              "        async function convertToInteractive(key) {\n",
              "          const element = document.querySelector('#df-31409bfe-5fad-419b-b1c0-9db4d1e0d754');\n",
              "          const dataTable =\n",
              "            await google.colab.kernel.invokeFunction('convertToInteractive',\n",
              "                                                     [key], {});\n",
              "          if (!dataTable) return;\n",
              "\n",
              "          const docLinkHtml = 'Like what you see? Visit the ' +\n",
              "            '<a target=\"_blank\" href=https://colab.research.google.com/notebooks/data_table.ipynb>data table notebook</a>'\n",
              "            + ' to learn more about interactive tables.';\n",
              "          element.innerHTML = '';\n",
              "          dataTable['output_type'] = 'display_data';\n",
              "          await google.colab.output.renderOutput(dataTable, element);\n",
              "          const docLink = document.createElement('div');\n",
              "          docLink.innerHTML = docLinkHtml;\n",
              "          element.appendChild(docLink);\n",
              "        }\n",
              "      </script>\n",
              "    </div>\n",
              "  </div>\n",
              "  "
            ],
            "text/plain": [
              "          1         2         3  ...      6828      6829      6830\n",
              "0  0.300000  1.180000  0.550000  ...  0.280000 -0.340000 -1.930000\n",
              "1  0.679961  1.289961  0.169961  ... -0.770039 -0.390039 -2.000039\n",
              "2  0.940000 -0.040000 -0.170000  ... -0.120000 -0.410000  0.000000\n",
              "3  0.280000 -0.310000  0.680000  ...  1.090000 -0.260000 -1.100000\n",
              "4  0.485000 -0.465000  0.395000  ...  0.745000  0.425000  0.145000\n",
              "\n",
              "[5 rows x 6830 columns]"
            ]
          },
          "metadata": {},
          "execution_count": 45
        }
      ]
    },
    {
      "cell_type": "code",
      "metadata": {
        "id": "5xpncBJhXepW",
        "colab": {
          "base_uri": "https://localhost:8080/"
        },
        "outputId": "9908bf60-dc6f-439f-961d-cb82e3cd7ae6"
      },
      "source": [
        "y.shape"
      ],
      "execution_count": 46,
      "outputs": [
        {
          "output_type": "execute_result",
          "data": {
            "text/plain": [
              "(64, 1)"
            ]
          },
          "metadata": {},
          "execution_count": 46
        }
      ]
    },
    {
      "cell_type": "markdown",
      "metadata": {
        "id": "80f06a85"
      },
      "source": [
        "We begin by examining the cancer types for the cell lines."
      ]
    },
    {
      "cell_type": "code",
      "metadata": {
        "id": "y8ak-l48Yke-",
        "colab": {
          "base_uri": "https://localhost:8080/"
        },
        "outputId": "c8ca9f99-ae5c-44e3-eff4-5febe34deb02"
      },
      "source": [
        "y['labs'].value_counts()"
      ],
      "execution_count": 47,
      "outputs": [
        {
          "output_type": "execute_result",
          "data": {
            "text/plain": [
              "RENAL          9\n",
              "NSCLC          9\n",
              "MELANOMA       8\n",
              "BREAST         7\n",
              "COLON          7\n",
              "OVARIAN        6\n",
              "LEUKEMIA       6\n",
              "CNS            5\n",
              "PROSTATE       2\n",
              "UNKNOWN        1\n",
              "K562B-repro    1\n",
              "K562A-repro    1\n",
              "MCF7A-repro    1\n",
              "MCF7D-repro    1\n",
              "Name: labs, dtype: int64"
            ]
          },
          "metadata": {},
          "execution_count": 47
        }
      ]
    },
    {
      "cell_type": "markdown",
      "source": [
        "### PCA on the NCI60 Data"
      ],
      "metadata": {
        "id": "zOg_-AMtgtQM"
      }
    },
    {
      "cell_type": "markdown",
      "metadata": {
        "id": "709b4f52"
      },
      "source": [
        "We first perform PCA on the data after scaling the variables (genes) to have standard deviation one, although one could reasonably argue that it is better not to scale the genes."
      ]
    },
    {
      "cell_type": "code",
      "metadata": {
        "id": "QNy9XKlrYwsf"
      },
      "source": [
        "scaler = StandardScaler()\n",
        "X_scaled = scaler.fit_transform(X)\n",
        "\n",
        "pca = PCA(random_state=42)\n",
        "pca_df = pd.DataFrame(pca.fit_transform(X_scaled))"
      ],
      "execution_count": 48,
      "outputs": []
    },
    {
      "cell_type": "markdown",
      "metadata": {
        "id": "61ec5600"
      },
      "source": [
        "We now  plot the first few principal component score vectors, in order to visualize the data. The observations (cell lines) corresponding to a given cancer type will be plotted in the same color, so that we can see to what extent the observations within a cancer type are similar to each other. We first create a simple function that assigns a distinct color to each element of a numeric vector.\n",
        "The function will be used to assign a  color to each of the $64$ cell lines, based on the cancer type to which it corresponds."
      ]
    },
    {
      "cell_type": "code",
      "metadata": {
        "id": "dQjuJkm3adC4"
      },
      "source": [
        "def vec(df,y):\n",
        "  \"\"\"\n",
        "  Function explanation: \n",
        "  ....\n",
        "  \"\"\"\n",
        "  import matplotlib.colors as mcolors\n",
        "  import matplotlib.patches as mpatches\n",
        "  fig, (ax1, ax2) = plt.subplots(1,2, figsize=(10,6))\n",
        "\n",
        "  color_idx = pd.factorize(y.labs)[0]\n",
        "  cmap = plt.cm.hsv\n",
        "\n",
        "  # Left plot\n",
        "  ax1.scatter(df.iloc[:,0], -df.iloc[:,1], c=color_idx, cmap=cmap, alpha=0.5, s=50)\n",
        "  ax1.set_ylabel('Principal Component 2')\n",
        "\n",
        "  # Right plot\n",
        "  ax2.scatter(df.iloc[:,0], df.iloc[:,2], c=color_idx, cmap=cmap, alpha=0.5, s=50)\n",
        "  ax2.set_ylabel('Principal Component 3')\n",
        "\n",
        "  # Custom legend for the classes (y) since we do not create scatter plots per class (which could have their own labels).\n",
        "  handles = []\n",
        "  labels = pd.factorize(y.labs.unique())\n",
        "  norm = mcolors.Normalize(vmin=0.0, vmax=14.0)\n",
        "\n",
        "  for i, v in zip(labels[0], labels[1]):\n",
        "      handles.append(mpatches.Patch(color=cmap(norm(i)), label=v, alpha=0.5))\n",
        "\n",
        "  ax2.legend(handles=handles, bbox_to_anchor=(1.05, 1), loc=2, borderaxespad=0.)\n",
        "\n",
        "  # xlabel for both plots\n",
        "  for ax in fig.axes:\n",
        "      ax.set_xlabel('Principal Component 1')    "
      ],
      "execution_count": 49,
      "outputs": []
    },
    {
      "cell_type": "markdown",
      "metadata": {
        "id": "1ad61612"
      },
      "source": [
        "Note that the `vec()` function takes as its argument a dataframe, and returns a plot containing a number of distinct colors equal to the number of unique elements in the dataframe.  We now can plot the principal component score vectors."
      ]
    },
    {
      "cell_type": "code",
      "metadata": {
        "id": "htMTgmVDaurA",
        "colab": {
          "base_uri": "https://localhost:8080/",
          "height": 388
        },
        "outputId": "32dca331-c02a-40b6-aea0-7e3466e2eda5"
      },
      "source": [
        "vec(pca_df,y)"
      ],
      "execution_count": 50,
      "outputs": [
        {
          "output_type": "display_data",
          "data": {
            "image/png": "[encoded data removed]",
            "text/plain": [
              "<Figure size 720x432 with 2 Axes>"
            ]
          },
          "metadata": {
            "needs_background": "light"
          }
        }
      ]
    },
    {
      "cell_type": "markdown",
      "metadata": {
        "id": "60c6f1fa"
      },
      "source": [
        "The resulting  plots are shown in Figure 12.17 in the book as well. On the whole, cell lines corresponding to a single cancer type do tend to have similar values on the first few\n",
        "principal component score vectors: they tend to lie near each other in this low-dimensional space. This indicates that cell lines from the same cancer type tend to have pretty similar gene expression levels.\n",
        "It would not have been possible to visualize the data without using a dimension reduction method such as PCA, since based on the full data set there are\n",
        " $6{,}830 \\choose 2$ possible scatterplots, none of which would have\n",
        "been particularly informative.}\n",
        "\n",
        "We can obtain a summary of the proportion of variance explained (PVE) of the first few principal components using the `pca_summary()` method for a `PCA` object:"
      ]
    },
    {
      "cell_type": "code",
      "metadata": {
        "id": "AoQE6Zj1d1t_"
      },
      "source": [
        "def pca_summary(pca):\n",
        "  \n",
        "  stds = np.round(np.sqrt(pca.explained_variance_), 4)\n",
        "  print(len(stds))\n",
        "  prop_of_var = np.round(pca.explained_variance_ratio_, 4)\n",
        "  cumul_prop = np.round(pca.explained_variance_ratio_.cumsum(), 4)\n",
        "  indices = [\"PC_{}\".format(el) for el in range(1, len(stds)+1)]\n",
        "  df = pd.DataFrame({\"Standard deviation\": stds, \n",
        "                     \"Proportion of variance\": prop_of_var, \n",
        "                     \"Cumulative Proportion\": cumul_prop},\n",
        "                    index=indices)\n",
        "  print(\"Importance of components: \\n\")\n",
        "  return df"
      ],
      "execution_count": 51,
      "outputs": []
    },
    {
      "cell_type": "code",
      "metadata": {
        "id": "EZg1zJMqeRbQ",
        "colab": {
          "base_uri": "https://localhost:8080/",
          "height": 475
        },
        "outputId": "0c15c9a5-2fa2-4305-87b6-ed729a6fcf01"
      },
      "source": [
        "pca_summary(pca)"
      ],
      "execution_count": 52,
      "outputs": [
        {
          "output_type": "stream",
          "name": "stdout",
          "text": [
            "64\n",
            "Importance of components: \n",
            "\n"
          ]
        },
        {
          "output_type": "execute_result",
          "data": {
            "text/html": [
              "\n",
              "  <div id=\"df-4caa5cdc-b24b-47d2-98cd-dd1a3cb89dc4\">\n",
              "    <div class=\"colab-df-container\">\n",
              "      <div>\n",
              "<style scoped>\n",
              "    .dataframe tbody tr th:only-of-type {\n",
              "        vertical-align: middle;\n",
              "    }\n",
              "\n",
              "    .dataframe tbody tr th {\n",
              "        vertical-align: top;\n",
              "    }\n",
              "\n",
              "    .dataframe thead th {\n",
              "        text-align: right;\n",
              "    }\n",
              "</style>\n",
              "<table border=\"1\" class=\"dataframe\">\n",
              "  <thead>\n",
              "    <tr style=\"text-align: right;\">\n",
              "      <th></th>\n",
              "      <th>Standard deviation</th>\n",
              "      <th>Proportion of variance</th>\n",
              "      <th>Cumulative Proportion</th>\n",
              "    </tr>\n",
              "  </thead>\n",
              "  <tbody>\n",
              "    <tr>\n",
              "      <th>PC_1</th>\n",
              "      <td>28.0737</td>\n",
              "      <td>0.1136</td>\n",
              "      <td>0.1136</td>\n",
              "    </tr>\n",
              "    <tr>\n",
              "      <th>PC_2</th>\n",
              "      <td>21.6512</td>\n",
              "      <td>0.0676</td>\n",
              "      <td>0.1812</td>\n",
              "    </tr>\n",
              "    <tr>\n",
              "      <th>PC_3</th>\n",
              "      <td>19.9772</td>\n",
              "      <td>0.0575</td>\n",
              "      <td>0.2387</td>\n",
              "    </tr>\n",
              "    <tr>\n",
              "      <th>PC_4</th>\n",
              "      <td>17.1672</td>\n",
              "      <td>0.0425</td>\n",
              "      <td>0.2811</td>\n",
              "    </tr>\n",
              "    <tr>\n",
              "      <th>PC_5</th>\n",
              "      <td>16.0981</td>\n",
              "      <td>0.0373</td>\n",
              "      <td>0.3185</td>\n",
              "    </tr>\n",
              "    <tr>\n",
              "      <th>...</th>\n",
              "      <td>...</td>\n",
              "      <td>...</td>\n",
              "      <td>...</td>\n",
              "    </tr>\n",
              "    <tr>\n",
              "      <th>PC_60</th>\n",
              "      <td>4.7210</td>\n",
              "      <td>0.0032</td>\n",
              "      <td>0.9926</td>\n",
              "    </tr>\n",
              "    <tr>\n",
              "      <th>PC_61</th>\n",
              "      <td>4.2087</td>\n",
              "      <td>0.0026</td>\n",
              "      <td>0.9952</td>\n",
              "    </tr>\n",
              "    <tr>\n",
              "      <th>PC_62</th>\n",
              "      <td>4.1144</td>\n",
              "      <td>0.0024</td>\n",
              "      <td>0.9976</td>\n",
              "    </tr>\n",
              "    <tr>\n",
              "      <th>PC_63</th>\n",
              "      <td>4.0732</td>\n",
              "      <td>0.0024</td>\n",
              "      <td>1.0000</td>\n",
              "    </tr>\n",
              "    <tr>\n",
              "      <th>PC_64</th>\n",
              "      <td>0.0000</td>\n",
              "      <td>0.0000</td>\n",
              "      <td>1.0000</td>\n",
              "    </tr>\n",
              "  </tbody>\n",
              "</table>\n",
              "<p>64 rows × 3 columns</p>\n",
              "</div>\n",
              "      <button class=\"colab-df-convert\" onclick=\"convertToInteractive('df-4caa5cdc-b24b-47d2-98cd-dd1a3cb89dc4')\"\n",
              "              title=\"Convert this dataframe to an interactive table.\"\n",
              "              style=\"display:none;\">\n",
              "        \n",
              "  <svg xmlns=\"http://www.w3.org/2000/svg\" height=\"24px\"viewBox=\"0 0 24 24\"\n",
              "       width=\"24px\">\n",
              "    <path d=\"M0 0h24v24H0V0z\" fill=\"none\"/>\n",
              "    <path d=\"M18.56 5.44l.94 2.06.94-2.06 2.06-.94-2.06-.94-.94-2.06-.94 2.06-2.06.94zm-11 1L8.5 8.5l.94-2.06 2.06-.94-2.06-.94L8.5 2.5l-.94 2.06-2.06.94zm10 10l.94 2.06.94-2.06 2.06-.94-2.06-.94-.94-2.06-.94 2.06-2.06.94z\"/><path d=\"M17.41 7.96l-1.37-1.37c-.4-.4-.92-.59-1.43-.59-.52 0-1.04.2-1.43.59L10.3 9.45l-7.72 7.72c-.78.78-.78 2.05 0 2.83L4 21.41c.39.39.9.59 1.41.59.51 0 1.02-.2 1.41-.59l7.78-7.78 2.81-2.81c.8-.78.8-2.07 0-2.86zM5.41 20L4 18.59l7.72-7.72 1.47 1.35L5.41 20z\"/>\n",
              "  </svg>\n",
              "      </button>\n",
              "      \n",
              "  <style>\n",
              "    .colab-df-container {\n",
              "      display:flex;\n",
              "      flex-wrap:wrap;\n",
              "      gap: 12px;\n",
              "    }\n",
              "\n",
              "    .colab-df-convert {\n",
              "      background-color: #E8F0FE;\n",
              "      border: none;\n",
              "      border-radius: 50%;\n",
              "      cursor: pointer;\n",
              "      display: none;\n",
              "      fill: #1967D2;\n",
              "      height: 32px;\n",
              "      padding: 0 0 0 0;\n",
              "      width: 32px;\n",
              "    }\n",
              "\n",
              "    .colab-df-convert:hover {\n",
              "      background-color: #E2EBFA;\n",
              "      box-shadow: 0px 1px 2px rgba(60, 64, 67, 0.3), 0px 1px 3px 1px rgba(60, 64, 67, 0.15);\n",
              "      fill: #174EA6;\n",
              "    }\n",
              "\n",
              "    [theme=dark] .colab-df-convert {\n",
              "      background-color: #3B4455;\n",
              "      fill: #D2E3FC;\n",
              "    }\n",
              "\n",
              "    [theme=dark] .colab-df-convert:hover {\n",
              "      background-color: #434B5C;\n",
              "      box-shadow: 0px 1px 3px 1px rgba(0, 0, 0, 0.15);\n",
              "      filter: drop-shadow(0px 1px 2px rgba(0, 0, 0, 0.3));\n",
              "      fill: #FFFFFF;\n",
              "    }\n",
              "  </style>\n",
              "\n",
              "      <script>\n",
              "        const buttonEl =\n",
              "          document.querySelector('#df-4caa5cdc-b24b-47d2-98cd-dd1a3cb89dc4 button.colab-df-convert');\n",
              "        buttonEl.style.display =\n",
              "          google.colab.kernel.accessAllowed ? 'block' : 'none';\n",
              "\n",
              "        async function convertToInteractive(key) {\n",
              "          const element = document.querySelector('#df-4caa5cdc-b24b-47d2-98cd-dd1a3cb89dc4');\n",
              "          const dataTable =\n",
              "            await google.colab.kernel.invokeFunction('convertToInteractive',\n",
              "                                                     [key], {});\n",
              "          if (!dataTable) return;\n",
              "\n",
              "          const docLinkHtml = 'Like what you see? Visit the ' +\n",
              "            '<a target=\"_blank\" href=https://colab.research.google.com/notebooks/data_table.ipynb>data table notebook</a>'\n",
              "            + ' to learn more about interactive tables.';\n",
              "          element.innerHTML = '';\n",
              "          dataTable['output_type'] = 'display_data';\n",
              "          await google.colab.output.renderOutput(dataTable, element);\n",
              "          const docLink = document.createElement('div');\n",
              "          docLink.innerHTML = docLinkHtml;\n",
              "          element.appendChild(docLink);\n",
              "        }\n",
              "      </script>\n",
              "    </div>\n",
              "  </div>\n",
              "  "
            ],
            "text/plain": [
              "       Standard deviation  Proportion of variance  Cumulative Proportion\n",
              "PC_1              28.0737                  0.1136                 0.1136\n",
              "PC_2              21.6512                  0.0676                 0.1812\n",
              "PC_3              19.9772                  0.0575                 0.2387\n",
              "PC_4              17.1672                  0.0425                 0.2811\n",
              "PC_5              16.0981                  0.0373                 0.3185\n",
              "...                   ...                     ...                    ...\n",
              "PC_60              4.7210                  0.0032                 0.9926\n",
              "PC_61              4.2087                  0.0026                 0.9952\n",
              "PC_62              4.1144                  0.0024                 0.9976\n",
              "PC_63              4.0732                  0.0024                 1.0000\n",
              "PC_64              0.0000                  0.0000                 1.0000\n",
              "\n",
              "[64 rows x 3 columns]"
            ]
          },
          "metadata": {},
          "execution_count": 52
        }
      ]
    },
    {
      "cell_type": "markdown",
      "metadata": {
        "id": "f5dffa4a"
      },
      "source": [
        "Using the `plot()` function, we can also plot the variance explained by the first few principal components."
      ]
    },
    {
      "cell_type": "code",
      "metadata": {
        "id": "KqAA6x5vhV4f",
        "colab": {
          "base_uri": "https://localhost:8080/",
          "height": 265
        },
        "outputId": "d3b6dfb6-4cde-4398-f831-b44ae2e02daf"
      },
      "source": [
        "pca_df.iloc[:,:10].var(axis=0, ddof=0).plot(kind='bar', rot=0)\n",
        "plt.ylabel('Variances');"
      ],
      "execution_count": 53,
      "outputs": [
        {
          "output_type": "display_data",
          "data": {
            "image/png": "[encoded data removed]",
            "text/plain": [
              "<Figure size 432x288 with 1 Axes>"
            ]
          },
          "metadata": {
            "needs_background": "light"
          }
        }
      ]
    },
    {
      "cell_type": "markdown",
      "metadata": {
        "id": "8878408d"
      },
      "source": [
        "Note that the height of each bar in the bar plot is given by calculating the variance of each PC.\n",
        "However, it is more informative to plot the PVE of each principal component (i.e. a scree plot) and the cumulative PVE of each principal component. This can be done with just a little work."
      ]
    },
    {
      "cell_type": "code",
      "metadata": {
        "id": "Ktteea7zcyl_",
        "colab": {
          "base_uri": "https://localhost:8080/",
          "height": 338
        },
        "outputId": "01c609c8-8522-4d84-96b0-af89687d7e4d"
      },
      "source": [
        "fig , (ax1,ax2) = plt.subplots(1,2, figsize=(9,5))\n",
        "\n",
        "# Left plot\n",
        "ax1.plot(list(range(1, 65)), pca.explained_variance_ratio_, '--o')\n",
        "ax1.set_ylabel('Proportion of Variance Explained')\n",
        "ax1.set_ylim(ymin=0.0, ymax=0.20)\n",
        "\n",
        "# Right plot\n",
        "ax2.plot(list(range(1, 65)), np.cumsum(pca.explained_variance_ratio_), '--ro')\n",
        "ax2.set_ylabel('Cumulative Proportion of Variance Explained')\n",
        "ax2.set_ylim(ymin=0.0, ymax=1.05)\n",
        "\n",
        "for ax in fig.axes:\n",
        "    ax.set_xlabel('Principal Component')\n",
        "    ax.set_xlim(0.95, 65)\n",
        "    ax.set_xticks([0, 10, 20, 30, 40, 50, 60])    "
      ],
      "execution_count": 54,
      "outputs": [
        {
          "output_type": "display_data",
          "data": {
            "image/png": "[encoded data removed]",
            "text/plain": [
              "<Figure size 648x360 with 2 Axes>"
            ]
          },
          "metadata": {
            "needs_background": "light"
          }
        }
      ]
    },
    {
      "cell_type": "markdown",
      "source": [
        "We see (in the right hand side plot) that together, the first seven principal components \n",
        "explain around 40% of the variance in the data. This is not a huge\n",
        "amount of the variance. However, looking at the scree plot, we see that\n",
        "while each of the first seven principal components explain a substantial\n",
        "amount of variance, there is a marked decrease in the variance explained\n",
        "by further principal components. That is, there is an elbow in the plot\n",
        "after approximately the seventh principal component. This suggests that\n",
        "there may be little benefit to examining more than seven or so principal\n",
        "components (though even examining seven principal components may be\n",
        "difficult)."
      ],
      "metadata": {
        "id": "Gg63JacRR6dl"
      }
    },
    {
      "cell_type": "markdown",
      "metadata": {
        "id": "8a0d53e8"
      },
      "source": [
        "### Clustering the Observations of the NCI60 Data\n",
        "\n",
        "We now proceed to hierarchically cluster the cell lines in the `NCI` data, with the goal of finding out whether or not the observations cluster into distinct types of cancer. To begin, we standardize the variables to have mean\n",
        " zero and standard deviation one. As mentioned earlier, this step is optional and should be performed only if we want each gene to be on the same *scale*."
      ]
    },
    {
      "cell_type": "markdown",
      "metadata": {
        "id": "3711073c"
      },
      "source": [
        "We now perform hierarchical clustering of the observations using complete, single, and average linkage. Euclidean distance is used as the dissimilarity measure."
      ]
    },
    {
      "cell_type": "code",
      "metadata": {
        "id": "TaANx6DcjIjI"
      },
      "source": [
        "hc_complete = linkage(X_scaled, method='complete')\n",
        "hc_avg = linkage(X_scaled, method='average')\n",
        "hc_single = linkage(X_scaled, method='single')"
      ],
      "execution_count": 55,
      "outputs": []
    },
    {
      "cell_type": "code",
      "metadata": {
        "id": "UZ1x5Bz1i3G_",
        "colab": {
          "base_uri": "https://localhost:8080/",
          "height": 707
        },
        "outputId": "dfab6dfd-efd2-4857-8555-22d738ec445b"
      },
      "source": [
        "fig, (ax1,ax2,ax3) = plt.subplots(1,3, figsize=(20,20))\n",
        "\n",
        "for linkage, cluster, ax in zip([hc_complete, hc_avg, hc_single],\n",
        "                                ['c1','c2','c3'],\n",
        "                                [ax1,ax2,ax3]):\n",
        "    cluster = dendrogram(linkage, orientation='right', leaf_font_size=10, ax=ax,labels=y['labs'].tolist())\n",
        "\n",
        "ax1.set_title('Complete Linkage')\n",
        "ax2.set_title('Average Linkage')\n",
        "ax3.set_title('Single Linkage');"
      ],
      "execution_count": 56,
      "outputs": [
        {
          "output_type": "display_data",
          "data": {
            "image/png": "[encoded data removed]",
            "text/plain": [
              "<Figure size 1440x1440 with 3 Axes>"
            ]
          },
          "metadata": {
            "needs_background": "light"
          }
        }
      ]
    },
    {
      "cell_type": "markdown",
      "metadata": {
        "id": "3a190944"
      },
      "source": [
        "The results are shown in Figure 12.19.\n",
        "We see that the choice of linkage certainly  does affect the results obtained. Typically, single linkage will tend to yield *trailing* clusters: very large clusters onto which\n",
        " individual observations attach  one-by-one. On the other hand, complete and average linkage tend to yield more balanced, attractive clusters. For this reason, complete\n",
        "and average linkage are generally preferred to single linkage.\n",
        "Clearly cell lines within a single cancer type do tend to cluster together, although the clustering is not perfect. We will use complete linkage hierarchical clustering for the analysis that follows."
      ]
    },
    {
      "cell_type": "markdown",
      "metadata": {
        "id": "587418c3"
      },
      "source": [
        "We can cut the dendrogram at the height that will yield a particular number of clusters, say four, and then compare with the known cell types:"
      ]
    },
    {
      "cell_type": "code",
      "metadata": {
        "id": "gjOenbcHkqma",
        "colab": {
          "base_uri": "https://localhost:8080/",
          "height": 287
        },
        "outputId": "adf24360-c991-45aa-b004-2542b4bcfe85"
      },
      "source": [
        "hc_clusters = cut_tree(hc_complete, 4).ravel()\n",
        "pd.crosstab(y.labs, hc_clusters).T"
      ],
      "execution_count": 58,
      "outputs": [
        {
          "output_type": "execute_result",
          "data": {
            "text/html": [
              "\n",
              "  <div id=\"df-d274c5c7-8368-44a1-9ac9-a61c9b521abc\">\n",
              "    <div class=\"colab-df-container\">\n",
              "      <div>\n",
              "<style scoped>\n",
              "    .dataframe tbody tr th:only-of-type {\n",
              "        vertical-align: middle;\n",
              "    }\n",
              "\n",
              "    .dataframe tbody tr th {\n",
              "        vertical-align: top;\n",
              "    }\n",
              "\n",
              "    .dataframe thead th {\n",
              "        text-align: right;\n",
              "    }\n",
              "</style>\n",
              "<table border=\"1\" class=\"dataframe\">\n",
              "  <thead>\n",
              "    <tr style=\"text-align: right;\">\n",
              "      <th>labs</th>\n",
              "      <th>BREAST</th>\n",
              "      <th>CNS</th>\n",
              "      <th>COLON</th>\n",
              "      <th>K562A-repro</th>\n",
              "      <th>K562B-repro</th>\n",
              "      <th>LEUKEMIA</th>\n",
              "      <th>MCF7A-repro</th>\n",
              "      <th>MCF7D-repro</th>\n",
              "      <th>MELANOMA</th>\n",
              "      <th>NSCLC</th>\n",
              "      <th>OVARIAN</th>\n",
              "      <th>PROSTATE</th>\n",
              "      <th>RENAL</th>\n",
              "      <th>UNKNOWN</th>\n",
              "    </tr>\n",
              "    <tr>\n",
              "      <th>col_0</th>\n",
              "      <th></th>\n",
              "      <th></th>\n",
              "      <th></th>\n",
              "      <th></th>\n",
              "      <th></th>\n",
              "      <th></th>\n",
              "      <th></th>\n",
              "      <th></th>\n",
              "      <th></th>\n",
              "      <th></th>\n",
              "      <th></th>\n",
              "      <th></th>\n",
              "      <th></th>\n",
              "      <th></th>\n",
              "    </tr>\n",
              "  </thead>\n",
              "  <tbody>\n",
              "    <tr>\n",
              "      <th>0</th>\n",
              "      <td>2</td>\n",
              "      <td>3</td>\n",
              "      <td>2</td>\n",
              "      <td>0</td>\n",
              "      <td>0</td>\n",
              "      <td>0</td>\n",
              "      <td>0</td>\n",
              "      <td>0</td>\n",
              "      <td>8</td>\n",
              "      <td>8</td>\n",
              "      <td>6</td>\n",
              "      <td>2</td>\n",
              "      <td>8</td>\n",
              "      <td>1</td>\n",
              "    </tr>\n",
              "    <tr>\n",
              "      <th>1</th>\n",
              "      <td>3</td>\n",
              "      <td>2</td>\n",
              "      <td>0</td>\n",
              "      <td>0</td>\n",
              "      <td>0</td>\n",
              "      <td>0</td>\n",
              "      <td>0</td>\n",
              "      <td>0</td>\n",
              "      <td>0</td>\n",
              "      <td>1</td>\n",
              "      <td>0</td>\n",
              "      <td>0</td>\n",
              "      <td>1</td>\n",
              "      <td>0</td>\n",
              "    </tr>\n",
              "    <tr>\n",
              "      <th>2</th>\n",
              "      <td>0</td>\n",
              "      <td>0</td>\n",
              "      <td>0</td>\n",
              "      <td>1</td>\n",
              "      <td>1</td>\n",
              "      <td>6</td>\n",
              "      <td>0</td>\n",
              "      <td>0</td>\n",
              "      <td>0</td>\n",
              "      <td>0</td>\n",
              "      <td>0</td>\n",
              "      <td>0</td>\n",
              "      <td>0</td>\n",
              "      <td>0</td>\n",
              "    </tr>\n",
              "    <tr>\n",
              "      <th>3</th>\n",
              "      <td>2</td>\n",
              "      <td>0</td>\n",
              "      <td>5</td>\n",
              "      <td>0</td>\n",
              "      <td>0</td>\n",
              "      <td>0</td>\n",
              "      <td>1</td>\n",
              "      <td>1</td>\n",
              "      <td>0</td>\n",
              "      <td>0</td>\n",
              "      <td>0</td>\n",
              "      <td>0</td>\n",
              "      <td>0</td>\n",
              "      <td>0</td>\n",
              "    </tr>\n",
              "  </tbody>\n",
              "</table>\n",
              "</div>\n",
              "      <button class=\"colab-df-convert\" onclick=\"convertToInteractive('df-d274c5c7-8368-44a1-9ac9-a61c9b521abc')\"\n",
              "              title=\"Convert this dataframe to an interactive table.\"\n",
              "              style=\"display:none;\">\n",
              "        \n",
              "  <svg xmlns=\"http://www.w3.org/2000/svg\" height=\"24px\"viewBox=\"0 0 24 24\"\n",
              "       width=\"24px\">\n",
              "    <path d=\"M0 0h24v24H0V0z\" fill=\"none\"/>\n",
              "    <path d=\"M18.56 5.44l.94 2.06.94-2.06 2.06-.94-2.06-.94-.94-2.06-.94 2.06-2.06.94zm-11 1L8.5 8.5l.94-2.06 2.06-.94-2.06-.94L8.5 2.5l-.94 2.06-2.06.94zm10 10l.94 2.06.94-2.06 2.06-.94-2.06-.94-.94-2.06-.94 2.06-2.06.94z\"/><path d=\"M17.41 7.96l-1.37-1.37c-.4-.4-.92-.59-1.43-.59-.52 0-1.04.2-1.43.59L10.3 9.45l-7.72 7.72c-.78.78-.78 2.05 0 2.83L4 21.41c.39.39.9.59 1.41.59.51 0 1.02-.2 1.41-.59l7.78-7.78 2.81-2.81c.8-.78.8-2.07 0-2.86zM5.41 20L4 18.59l7.72-7.72 1.47 1.35L5.41 20z\"/>\n",
              "  </svg>\n",
              "      </button>\n",
              "      \n",
              "  <style>\n",
              "    .colab-df-container {\n",
              "      display:flex;\n",
              "      flex-wrap:wrap;\n",
              "      gap: 12px;\n",
              "    }\n",
              "\n",
              "    .colab-df-convert {\n",
              "      background-color: #E8F0FE;\n",
              "      border: none;\n",
              "      border-radius: 50%;\n",
              "      cursor: pointer;\n",
              "      display: none;\n",
              "      fill: #1967D2;\n",
              "      height: 32px;\n",
              "      padding: 0 0 0 0;\n",
              "      width: 32px;\n",
              "    }\n",
              "\n",
              "    .colab-df-convert:hover {\n",
              "      background-color: #E2EBFA;\n",
              "      box-shadow: 0px 1px 2px rgba(60, 64, 67, 0.3), 0px 1px 3px 1px rgba(60, 64, 67, 0.15);\n",
              "      fill: #174EA6;\n",
              "    }\n",
              "\n",
              "    [theme=dark] .colab-df-convert {\n",
              "      background-color: #3B4455;\n",
              "      fill: #D2E3FC;\n",
              "    }\n",
              "\n",
              "    [theme=dark] .colab-df-convert:hover {\n",
              "      background-color: #434B5C;\n",
              "      box-shadow: 0px 1px 3px 1px rgba(0, 0, 0, 0.15);\n",
              "      filter: drop-shadow(0px 1px 2px rgba(0, 0, 0, 0.3));\n",
              "      fill: #FFFFFF;\n",
              "    }\n",
              "  </style>\n",
              "\n",
              "      <script>\n",
              "        const buttonEl =\n",
              "          document.querySelector('#df-d274c5c7-8368-44a1-9ac9-a61c9b521abc button.colab-df-convert');\n",
              "        buttonEl.style.display =\n",
              "          google.colab.kernel.accessAllowed ? 'block' : 'none';\n",
              "\n",
              "        async function convertToInteractive(key) {\n",
              "          const element = document.querySelector('#df-d274c5c7-8368-44a1-9ac9-a61c9b521abc');\n",
              "          const dataTable =\n",
              "            await google.colab.kernel.invokeFunction('convertToInteractive',\n",
              "                                                     [key], {});\n",
              "          if (!dataTable) return;\n",
              "\n",
              "          const docLinkHtml = 'Like what you see? Visit the ' +\n",
              "            '<a target=\"_blank\" href=https://colab.research.google.com/notebooks/data_table.ipynb>data table notebook</a>'\n",
              "            + ' to learn more about interactive tables.';\n",
              "          element.innerHTML = '';\n",
              "          dataTable['output_type'] = 'display_data';\n",
              "          await google.colab.output.renderOutput(dataTable, element);\n",
              "          const docLink = document.createElement('div');\n",
              "          docLink.innerHTML = docLinkHtml;\n",
              "          element.appendChild(docLink);\n",
              "        }\n",
              "      </script>\n",
              "    </div>\n",
              "  </div>\n",
              "  "
            ],
            "text/plain": [
              "labs   BREAST  CNS  COLON  K562A-repro  ...  OVARIAN  PROSTATE  RENAL  UNKNOWN\n",
              "col_0                                   ...                                   \n",
              "0           2    3      2            0  ...        6         2      8        1\n",
              "1           3    2      0            0  ...        0         0      1        0\n",
              "2           0    0      0            1  ...        0         0      0        0\n",
              "3           2    0      5            0  ...        0         0      0        0\n",
              "\n",
              "[4 rows x 14 columns]"
            ]
          },
          "metadata": {},
          "execution_count": 58
        }
      ]
    },
    {
      "cell_type": "markdown",
      "metadata": {
        "id": "131f88d8"
      },
      "source": [
        "There are some clear patterns. All the leukemia cell lines cluster together, while the breast cancer cell lines are spread out over three different clusters.  We can plot the cut on the dendrogram that produces these four clusters:"
      ]
    },
    {
      "cell_type": "code",
      "metadata": {
        "id": "M7cjfHgInKTI",
        "colab": {
          "base_uri": "https://localhost:8080/",
          "height": 592
        },
        "outputId": "feab3413-2b73-4d29-d992-e57766aae4ef"
      },
      "source": [
        "plt.figure(figsize=(10,10))\n",
        "cut = dendrogram(hc_complete, orientation='right', color_threshold=140, leaf_font_size=10,labels=y['labs'].tolist())\n",
        "plt.vlines(140,0,plt.gca().yaxis.get_data_interval()[1], colors='r', linestyles='dashed');"
      ],
      "execution_count": 57,
      "outputs": [
        {
          "output_type": "display_data",
          "data": {
            "image/png": "[encoded data removed]",
            "text/plain": [
              "<Figure size 720x720 with 1 Axes>"
            ]
          },
          "metadata": {
            "needs_background": "light"
          }
        }
      ]
    },
    {
      "cell_type": "markdown",
      "metadata": {
        "id": "915d9aeb"
      },
      "source": [
        "The `plt.vlines()` function draws a straight vertical line on top of any existing plot in~`Python`. The argument `x = 140` plots a horizontal line at height $140$ on the\n",
        "dendrogram; this is the height that results in four distinct clusters. "
      ]
    },
    {
      "cell_type": "markdown",
      "source": [
        "# **Credits**:\n",
        "\n",
        "---\n",
        "\n",
        "Text is based on R-notebook by the authors, the code for the Chapter 12 sections is based on work that can be found [here](https://github.com/jcrouser/islr-python/blob/master/Lab%2018%20-%20PCA%20in%20Python.ipynb) and [here](https://github.com/hardikkamboj/An-Introduction-to-Statistical-Learning/blob/master/Chapter_10/), with some minor changes. <br/>\n",
        "\n"
      ],
      "metadata": {
        "id": "pmgj6sNHoyHP"
      }
    }
  ]
}